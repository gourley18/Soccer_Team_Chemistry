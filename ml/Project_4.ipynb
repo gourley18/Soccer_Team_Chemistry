{
  "nbformat": 4,
  "nbformat_minor": 0,
  "metadata": {
    "colab": {
      "provenance": []
    },
    "kernelspec": {
      "name": "python3",
      "display_name": "Python 3"
    },
    "language_info": {
      "name": "python"
    }
  },
  "cells": [
    {
      "cell_type": "code",
      "source": [
        "# Install JAX + jaxlib for GPU (CUDA 11)\n",
        "!pip install --upgrade pip\n",
        "!pip install \"jax[cuda11_local]\" -f https://storage.googleapis.com/jax-releases/jax_cuda_releases.html\n",
        "!pip install keras-core"
      ],
      "metadata": {
        "colab": {
          "base_uri": "https://localhost:8080/"
        },
        "id": "xhJPrgIwHrMC",
        "outputId": "5d1eefdd-d6a5-4e8d-fb4a-7613deb3a4a4"
      },
      "execution_count": 1,
      "outputs": [
        {
          "output_type": "stream",
          "name": "stdout",
          "text": [
            "Requirement already satisfied: pip in /usr/local/lib/python3.11/dist-packages (25.0.1)\n",
            "Looking in links: https://storage.googleapis.com/jax-releases/jax_cuda_releases.html\n",
            "Requirement already satisfied: jax[cuda11_local] in /usr/local/lib/python3.11/dist-packages (0.5.2)\n",
            "\u001b[33mWARNING: jax 0.5.2 does not provide the extra 'cuda11-local'\u001b[0m\u001b[33m\n",
            "\u001b[0mRequirement already satisfied: jaxlib<=0.5.2,>=0.5.1 in /usr/local/lib/python3.11/dist-packages (from jax[cuda11_local]) (0.5.1)\n",
            "Requirement already satisfied: ml_dtypes>=0.4.0 in /usr/local/lib/python3.11/dist-packages (from jax[cuda11_local]) (0.4.1)\n",
            "Requirement already satisfied: numpy>=1.25 in /usr/local/lib/python3.11/dist-packages (from jax[cuda11_local]) (2.0.2)\n",
            "Requirement already satisfied: opt_einsum in /usr/local/lib/python3.11/dist-packages (from jax[cuda11_local]) (3.4.0)\n",
            "Requirement already satisfied: scipy>=1.11.1 in /usr/local/lib/python3.11/dist-packages (from jax[cuda11_local]) (1.14.1)\n",
            "Requirement already satisfied: keras-core in /usr/local/lib/python3.11/dist-packages (0.1.7)\n",
            "Requirement already satisfied: absl-py in /usr/local/lib/python3.11/dist-packages (from keras-core) (1.4.0)\n",
            "Requirement already satisfied: numpy in /usr/local/lib/python3.11/dist-packages (from keras-core) (2.0.2)\n",
            "Requirement already satisfied: rich in /usr/local/lib/python3.11/dist-packages (from keras-core) (13.9.4)\n",
            "Requirement already satisfied: namex in /usr/local/lib/python3.11/dist-packages (from keras-core) (0.0.8)\n",
            "Requirement already satisfied: h5py in /usr/local/lib/python3.11/dist-packages (from keras-core) (3.13.0)\n",
            "Requirement already satisfied: dm-tree in /usr/local/lib/python3.11/dist-packages (from keras-core) (0.1.9)\n",
            "Requirement already satisfied: attrs>=18.2.0 in /usr/local/lib/python3.11/dist-packages (from dm-tree->keras-core) (25.3.0)\n",
            "Requirement already satisfied: wrapt>=1.11.2 in /usr/local/lib/python3.11/dist-packages (from dm-tree->keras-core) (1.17.2)\n",
            "Requirement already satisfied: markdown-it-py>=2.2.0 in /usr/local/lib/python3.11/dist-packages (from rich->keras-core) (3.0.0)\n",
            "Requirement already satisfied: pygments<3.0.0,>=2.13.0 in /usr/local/lib/python3.11/dist-packages (from rich->keras-core) (2.18.0)\n",
            "Requirement already satisfied: mdurl~=0.1 in /usr/local/lib/python3.11/dist-packages (from markdown-it-py>=2.2.0->rich->keras-core) (0.1.2)\n"
          ]
        }
      ]
    },
    {
      "cell_type": "code",
      "source": [
        "import os\n",
        "os.environ[\"KERAS_BACKEND\"] = \"jax\""
      ],
      "metadata": {
        "id": "30SxEBGIWVqr"
      },
      "execution_count": 2,
      "outputs": []
    },
    {
      "cell_type": "code",
      "source": [],
      "metadata": {
        "id": "Cscepqh8Hawe"
      },
      "execution_count": 2,
      "outputs": []
    },
    {
      "cell_type": "code",
      "execution_count": 3,
      "metadata": {
        "id": "w-VWwj-QT4FZ",
        "colab": {
          "base_uri": "https://localhost:8080/"
        },
        "outputId": "7066572e-34fe-49a4-a4bd-417abd896002"
      },
      "outputs": [
        {
          "output_type": "stream",
          "name": "stdout",
          "text": [
            "Using JAX backend.\n",
            "Using keras-core: keras_core\n"
          ]
        }
      ],
      "source": [
        "# Package Imports\n",
        "\n",
        "import sklearn as sk\n",
        "import polars as pl\n",
        "import numpy as np\n",
        "import matplotlib.pyplot as plt\n",
        "import matplotlib.cm as cm\n",
        "import matplotlib.colors as mcolors\n",
        "\n",
        "from  matplotlib.colors import LinearSegmentedColormap\n",
        "\n",
        "from sklearn.model_selection import train_test_split, GroupShuffleSplit\n",
        "from sklearn.metrics import mean_squared_error\n",
        "from sklearn.pipeline import Pipeline\n",
        "from sklearn.preprocessing import StandardScaler\n",
        "\n",
        "from sklearn.dummy import DummyRegressor\n",
        "\n",
        "import itertools\n",
        "\n",
        "import keras_core as keras\n",
        "from keras_core import layers\n",
        "\n",
        "print(\"Using keras-core:\", keras.__name__)"
      ]
    },
    {
      "cell_type": "markdown",
      "source": [
        "Cite your source of data. (Remember to include your data as a comma separated value (CSV) file with your submission."
      ],
      "metadata": {
        "id": "PiatCc3MVkLv"
      }
    },
    {
      "cell_type": "code",
      "source": [
        "# Import dataset\n",
        "df = pl.read_csv(\"project1_2008_all.csv\")\n",
        "\n",
        "# Read more csv's and concatenate (Optional)\n",
        "df2 = pl.read_csv(\"project1_2009_all.csv\")\n",
        "df = pl.concat([df, df2])\n",
        "\n",
        "# Add goal_differential column to the dataframe\n",
        "df = df.with_columns(\n",
        "    (pl.col(\"goals_scored\") - pl.col(\"goals_allowed\")).alias(\"goal_differential\")\n",
        ")\n",
        "\n",
        "# Convert 'col1' from float64 to int16 Future opitmization\n",
        "# df = df.with_columns([\n",
        "#     pl.col('goals_scored').cast(pl.Int16),  # Cast column from float64 to int16\n",
        "# ])\n",
        "\n",
        "df"
      ],
      "metadata": {
        "colab": {
          "base_uri": "https://localhost:8080/",
          "height": 463
        },
        "id": "ZEztn6_iVlCC",
        "outputId": "30c9654f-e19e-46cd-a065-563acf646bc8"
      },
      "execution_count": 4,
      "outputs": [
        {
          "output_type": "execute_result",
          "data": {
            "text/plain": [
              "shape: (55_820, 60)\n",
              "┌──────────┬─────────┬───────────┬───────────┬───┬────────────┬────────────┬───────────┬───────────┐\n",
              "│ match_id ┆ team_id ┆ feature_1 ┆ feature_2 ┆ … ┆ feature_55 ┆ goals_scor ┆ goals_all ┆ goal_diff │\n",
              "│ ---      ┆ ---     ┆ ---       ┆ ---       ┆   ┆ ---        ┆ ed         ┆ owed      ┆ erential  │\n",
              "│ i64      ┆ i64     ┆ i64       ┆ i64       ┆   ┆ i64        ┆ ---        ┆ ---       ┆ ---       │\n",
              "│          ┆         ┆           ┆           ┆   ┆            ┆ f64        ┆ f64       ┆ f64       │\n",
              "╞══════════╪═════════╪═══════════╪═══════════╪═══╪════════════╪════════════╪═══════════╪═══════════╡\n",
              "│ 220071   ┆ 362     ┆ 48        ┆ 34        ┆ … ┆ 65         ┆ 2.0        ┆ 1.0       ┆ 1.0       │\n",
              "│ 220071   ┆ 367     ┆ 110       ┆ 101       ┆ … ┆ 13         ┆ 1.0        ┆ 2.0       ┆ -1.0      │\n",
              "│ 220074   ┆ 370     ┆ 14        ┆ 16        ┆ … ┆ 11         ┆ 1.0        ┆ 2.0       ┆ -1.0      │\n",
              "│ 220074   ┆ 363     ┆ 14        ┆ 10        ┆ … ┆ 21         ┆ 2.0        ┆ 1.0       ┆ 1.0       │\n",
              "│ 220070   ┆ 359     ┆ 36        ┆ 46        ┆ … ┆ 125        ┆ 2.0        ┆ 0.0       ┆ 2.0       │\n",
              "│ …        ┆ …       ┆ …         ┆ …         ┆ … ┆ …          ┆ …          ┆ …         ┆ …         │\n",
              "│ 272481   ┆ 3611    ┆ 5         ┆ 7         ┆ … ┆ 14         ┆ 4.0        ┆ 0.0       ┆ 4.0       │\n",
              "│ 285809   ┆ 4398    ┆ 1         ┆ 3         ┆ … ┆ 1          ┆ 0.0        ┆ 1.0       ┆ -1.0      │\n",
              "│ 285809   ┆ 4860    ┆ 1         ┆ 1         ┆ … ┆ 1          ┆ 1.0        ┆ 0.0       ┆ 1.0       │\n",
              "│ 280881   ┆ 5325    ┆ 10        ┆ 10        ┆ … ┆ 14         ┆ 0.0        ┆ 2.0       ┆ -2.0      │\n",
              "│ 280881   ┆ 8352    ┆ 12        ┆ 18        ┆ … ┆ 17         ┆ 2.0        ┆ 0.0       ┆ 2.0       │\n",
              "└──────────┴─────────┴───────────┴───────────┴───┴────────────┴────────────┴───────────┴───────────┘"
            ],
            "text/html": [
              "<div><style>\n",
              ".dataframe > thead > tr,\n",
              ".dataframe > tbody > tr {\n",
              "  text-align: right;\n",
              "  white-space: pre-wrap;\n",
              "}\n",
              "</style>\n",
              "<small>shape: (55_820, 60)</small><table border=\"1\" class=\"dataframe\"><thead><tr><th>match_id</th><th>team_id</th><th>feature_1</th><th>feature_2</th><th>feature_3</th><th>feature_4</th><th>feature_5</th><th>feature_6</th><th>feature_7</th><th>feature_8</th><th>feature_9</th><th>feature_10</th><th>feature_11</th><th>feature_12</th><th>feature_13</th><th>feature_14</th><th>feature_15</th><th>feature_16</th><th>feature_17</th><th>feature_18</th><th>feature_19</th><th>feature_20</th><th>feature_21</th><th>feature_22</th><th>feature_23</th><th>feature_24</th><th>feature_25</th><th>feature_26</th><th>feature_27</th><th>feature_28</th><th>feature_29</th><th>feature_30</th><th>feature_31</th><th>feature_32</th><th>feature_33</th><th>feature_34</th><th>feature_35</th><th>feature_36</th><th>feature_37</th><th>feature_38</th><th>feature_39</th><th>feature_40</th><th>feature_41</th><th>feature_42</th><th>feature_43</th><th>feature_44</th><th>feature_45</th><th>feature_46</th><th>feature_47</th><th>feature_48</th><th>feature_49</th><th>feature_50</th><th>feature_51</th><th>feature_52</th><th>feature_53</th><th>feature_54</th><th>feature_55</th><th>goals_scored</th><th>goals_allowed</th><th>goal_differential</th></tr><tr><td>i64</td><td>i64</td><td>i64</td><td>i64</td><td>i64</td><td>i64</td><td>i64</td><td>i64</td><td>i64</td><td>i64</td><td>i64</td><td>i64</td><td>i64</td><td>i64</td><td>i64</td><td>i64</td><td>i64</td><td>i64</td><td>i64</td><td>i64</td><td>i64</td><td>i64</td><td>i64</td><td>i64</td><td>i64</td><td>i64</td><td>i64</td><td>i64</td><td>i64</td><td>i64</td><td>i64</td><td>i64</td><td>i64</td><td>i64</td><td>i64</td><td>i64</td><td>i64</td><td>i64</td><td>i64</td><td>i64</td><td>i64</td><td>i64</td><td>i64</td><td>i64</td><td>i64</td><td>i64</td><td>i64</td><td>i64</td><td>i64</td><td>i64</td><td>i64</td><td>i64</td><td>i64</td><td>i64</td><td>i64</td><td>i64</td><td>i64</td><td>f64</td><td>f64</td><td>f64</td></tr></thead><tbody><tr><td>220071</td><td>362</td><td>48</td><td>34</td><td>16</td><td>25</td><td>29</td><td>16</td><td>13</td><td>44</td><td>51</td><td>50</td><td>60</td><td>20</td><td>105</td><td>35</td><td>22</td><td>16</td><td>72</td><td>68</td><td>221</td><td>19</td><td>45</td><td>29</td><td>19</td><td>15</td><td>34</td><td>43</td><td>54</td><td>16</td><td>23</td><td>23</td><td>14</td><td>18</td><td>20</td><td>20</td><td>24</td><td>15</td><td>12</td><td>42</td><td>37</td><td>96</td><td>23</td><td>16</td><td>32</td><td>39</td><td>35</td><td>15</td><td>18</td><td>20</td><td>20</td><td>15</td><td>16</td><td>16</td><td>61</td><td>66</td><td>65</td><td>2.0</td><td>1.0</td><td>1.0</td></tr><tr><td>220071</td><td>367</td><td>110</td><td>101</td><td>39</td><td>48</td><td>79</td><td>63</td><td>52</td><td>78</td><td>18</td><td>11</td><td>186</td><td>62</td><td>71</td><td>112</td><td>88</td><td>70</td><td>120</td><td>21</td><td>14</td><td>64</td><td>72</td><td>116</td><td>89</td><td>70</td><td>100</td><td>22</td><td>14</td><td>65</td><td>59</td><td>55</td><td>61</td><td>53</td><td>23</td><td>15</td><td>69</td><td>57</td><td>67</td><td>62</td><td>23</td><td>14</td><td>81</td><td>70</td><td>91</td><td>17</td><td>10</td><td>55</td><td>75</td><td>19</td><td>15</td><td>56</td><td>21</td><td>12</td><td>19</td><td>14</td><td>13</td><td>1.0</td><td>2.0</td><td>-1.0</td></tr><tr><td>220074</td><td>370</td><td>14</td><td>16</td><td>39</td><td>31</td><td>14</td><td>16</td><td>30</td><td>54</td><td>13</td><td>17</td><td>48</td><td>8</td><td>19</td><td>11</td><td>18</td><td>19</td><td>19</td><td>8</td><td>18</td><td>2</td><td>17</td><td>14</td><td>15</td><td>17</td><td>16</td><td>8</td><td>16</td><td>20</td><td>2</td><td>8</td><td>20</td><td>110</td><td>12</td><td>7</td><td>15</td><td>21</td><td>37</td><td>36</td><td>12</td><td>22</td><td>39</td><td>15</td><td>14</td><td>8</td><td>15</td><td>21</td><td>20</td><td>9</td><td>20</td><td>43</td><td>13</td><td>22</td><td>17</td><td>21</td><td>11</td><td>1.0</td><td>2.0</td><td>-1.0</td></tr><tr><td>220074</td><td>363</td><td>14</td><td>10</td><td>20</td><td>17</td><td>3</td><td>14</td><td>20</td><td>8</td><td>19</td><td>18</td><td>55</td><td>85</td><td>90</td><td>38</td><td>15</td><td>23</td><td>39</td><td>62</td><td>18</td><td>124</td><td>53</td><td>34</td><td>8</td><td>11</td><td>33</td><td>48</td><td>9</td><td>76</td><td>18</td><td>16</td><td>26</td><td>23</td><td>39</td><td>20</td><td>45</td><td>14</td><td>23</td><td>43</td><td>61</td><td>19</td><td>3</td><td>5</td><td>33</td><td>38</td><td>4</td><td>18</td><td>8</td><td>17</td><td>12</td><td>11</td><td>26</td><td>22</td><td>36</td><td>9</td><td>21</td><td>2.0</td><td>1.0</td><td>1.0</td></tr><tr><td>220070</td><td>359</td><td>36</td><td>46</td><td>38</td><td>44</td><td>20</td><td>33</td><td>37</td><td>11</td><td>41</td><td>25</td><td>56</td><td>47</td><td>56</td><td>32</td><td>31</td><td>44</td><td>11</td><td>50</td><td>39</td><td>75</td><td>161</td><td>72</td><td>91</td><td>102</td><td>16</td><td>162</td><td>133</td><td>76</td><td>32</td><td>57</td><td>56</td><td>12</td><td>71</td><td>59</td><td>74</td><td>106</td><td>132</td><td>15</td><td>163</td><td>123</td><td>30</td><td>54</td><td>7</td><td>70</td><td>50</td><td>55</td><td>10</td><td>86</td><td>74</td><td>15</td><td>98</td><td>75</td><td>11</td><td>13</td><td>125</td><td>2.0</td><td>0.0</td><td>2.0</td></tr><tr><td>&hellip;</td><td>&hellip;</td><td>&hellip;</td><td>&hellip;</td><td>&hellip;</td><td>&hellip;</td><td>&hellip;</td><td>&hellip;</td><td>&hellip;</td><td>&hellip;</td><td>&hellip;</td><td>&hellip;</td><td>&hellip;</td><td>&hellip;</td><td>&hellip;</td><td>&hellip;</td><td>&hellip;</td><td>&hellip;</td><td>&hellip;</td><td>&hellip;</td><td>&hellip;</td><td>&hellip;</td><td>&hellip;</td><td>&hellip;</td><td>&hellip;</td><td>&hellip;</td><td>&hellip;</td><td>&hellip;</td><td>&hellip;</td><td>&hellip;</td><td>&hellip;</td><td>&hellip;</td><td>&hellip;</td><td>&hellip;</td><td>&hellip;</td><td>&hellip;</td><td>&hellip;</td><td>&hellip;</td><td>&hellip;</td><td>&hellip;</td><td>&hellip;</td><td>&hellip;</td><td>&hellip;</td><td>&hellip;</td><td>&hellip;</td><td>&hellip;</td><td>&hellip;</td><td>&hellip;</td><td>&hellip;</td><td>&hellip;</td><td>&hellip;</td><td>&hellip;</td><td>&hellip;</td><td>&hellip;</td><td>&hellip;</td><td>&hellip;</td><td>&hellip;</td><td>&hellip;</td><td>&hellip;</td><td>&hellip;</td></tr><tr><td>272481</td><td>3611</td><td>5</td><td>7</td><td>8</td><td>13</td><td>25</td><td>14</td><td>27</td><td>42</td><td>6</td><td>8</td><td>25</td><td>27</td><td>17</td><td>21</td><td>26</td><td>16</td><td>27</td><td>8</td><td>17</td><td>35</td><td>21</td><td>25</td><td>32</td><td>24</td><td>35</td><td>14</td><td>25</td><td>23</td><td>28</td><td>35</td><td>24</td><td>37</td><td>15</td><td>26</td><td>24</td><td>27</td><td>26</td><td>36</td><td>10</td><td>19</td><td>49</td><td>38</td><td>50</td><td>15</td><td>23</td><td>32</td><td>45</td><td>12</td><td>23</td><td>51</td><td>10</td><td>19</td><td>15</td><td>30</td><td>14</td><td>4.0</td><td>0.0</td><td>4.0</td></tr><tr><td>285809</td><td>4398</td><td>1</td><td>3</td><td>3</td><td>1</td><td>1</td><td>1</td><td>1</td><td>1</td><td>1</td><td>1</td><td>1</td><td>2</td><td>3</td><td>1</td><td>1</td><td>1</td><td>1</td><td>1</td><td>1</td><td>3</td><td>1</td><td>1</td><td>1</td><td>1</td><td>1</td><td>1</td><td>1</td><td>1</td><td>1</td><td>1</td><td>1</td><td>1</td><td>1</td><td>1</td><td>1</td><td>1</td><td>1</td><td>1</td><td>1</td><td>1</td><td>1</td><td>1</td><td>1</td><td>1</td><td>1</td><td>1</td><td>1</td><td>1</td><td>1</td><td>1</td><td>1</td><td>1</td><td>1</td><td>1</td><td>1</td><td>0.0</td><td>1.0</td><td>-1.0</td></tr><tr><td>285809</td><td>4860</td><td>1</td><td>1</td><td>1</td><td>1</td><td>1</td><td>1</td><td>1</td><td>1</td><td>1</td><td>1</td><td>13</td><td>12</td><td>9</td><td>4</td><td>3</td><td>1</td><td>1</td><td>1</td><td>1</td><td>12</td><td>9</td><td>4</td><td>3</td><td>1</td><td>1</td><td>1</td><td>1</td><td>8</td><td>4</td><td>3</td><td>1</td><td>1</td><td>1</td><td>1</td><td>3</td><td>1</td><td>1</td><td>1</td><td>1</td><td>1</td><td>1</td><td>1</td><td>1</td><td>1</td><td>1</td><td>1</td><td>1</td><td>1</td><td>1</td><td>1</td><td>1</td><td>1</td><td>1</td><td>1</td><td>1</td><td>1.0</td><td>0.0</td><td>1.0</td></tr><tr><td>280881</td><td>5325</td><td>10</td><td>10</td><td>5</td><td>9</td><td>6</td><td>10</td><td>8</td><td>10</td><td>9</td><td>8</td><td>20</td><td>29</td><td>41</td><td>27</td><td>44</td><td>42</td><td>36</td><td>36</td><td>16</td><td>12</td><td>18</td><td>14</td><td>20</td><td>18</td><td>19</td><td>18</td><td>16</td><td>67</td><td>21</td><td>80</td><td>46</td><td>40</td><td>30</td><td>9</td><td>36</td><td>85</td><td>61</td><td>57</td><td>40</td><td>15</td><td>35</td><td>29</td><td>29</td><td>25</td><td>11</td><td>63</td><td>57</td><td>41</td><td>16</td><td>48</td><td>42</td><td>14</td><td>37</td><td>15</td><td>14</td><td>0.0</td><td>2.0</td><td>-2.0</td></tr><tr><td>280881</td><td>8352</td><td>12</td><td>18</td><td>2</td><td>16</td><td>18</td><td>15</td><td>18</td><td>18</td><td>14</td><td>10</td><td>12</td><td>2</td><td>15</td><td>12</td><td>12</td><td>12</td><td>12</td><td>9</td><td>4</td><td>2</td><td>16</td><td>29</td><td>35</td><td>42</td><td>33</td><td>23</td><td>24</td><td>2</td><td>2</td><td>2</td><td>2</td><td>2</td><td>1</td><td>2</td><td>16</td><td>22</td><td>16</td><td>26</td><td>12</td><td>9</td><td>27</td><td>28</td><td>32</td><td>25</td><td>23</td><td>28</td><td>42</td><td>22</td><td>20</td><td>31</td><td>24</td><td>22</td><td>27</td><td>26</td><td>17</td><td>2.0</td><td>0.0</td><td>2.0</td></tr></tbody></table></div>"
            ]
          },
          "metadata": {},
          "execution_count": 4
        }
      ]
    },
    {
      "cell_type": "code",
      "source": [
        "# Set random state\n",
        "random_state = 999\n",
        "\n",
        "# Set random seeds for libraries\n",
        "np.random.seed(random_state)\n",
        "keras.random.SeedGenerator(seed=random_state)\n",
        "\n",
        "# Filter out rows where 'goal_differential' is NaN or null\n",
        "original_rows = df.shape[0]\n",
        "df = df.filter(\n",
        "    pl.col(\"goal_differential\").is_not_null()\n",
        "    & pl.col(\"goal_differential\").is_finite()\n",
        ")\n",
        "rows_removed = original_rows - df.shape[0]\n",
        "print(f\"Rows removed from df after filtering NaN: {rows_removed}\")\n",
        "\n",
        "# Filter the dataframe to only take certain rows based on team id (Optional)\n",
        "#   This would be beneficial if we only want to train our model\n",
        "#   on only teams from a certain league or set of leagues\n",
        "premier_league_teams: list[int] = [\n",
        "    359, #Arsenal\n",
        "    362, #Aston Villa\n",
        "    365, #Blackburn Rovers\n",
        "    358, #Bolton Wanderers\n",
        "    365, #Chelsea\n",
        "    368, #Everton\n",
        "    370, #Fulham\n",
        "    306, #Hull City\n",
        "    364, #Liverpool\n",
        "    382, #Manchester City\n",
        "    360, #Manchester United\n",
        "    369, #Middlesbrough\n",
        "    361, #Newcastle United\n",
        "    385, #Portsmouth\n",
        "    336, #Stoke City\n",
        "    366, #Sunderland\n",
        "    367, #Tottenham Hotspur\n",
        "    383, #West Bromwich Albion\n",
        "    371, #West Ham United\n",
        "    350, #Wigan Athletic\n",
        "]\n",
        "bundesliga_teams: list[int] = [\n",
        "    138, #Wolfsburg\n",
        "    132, #Bayern Munich\n",
        "    134, #Struttgart\n",
        "    129, #Hertha Berlin\n",
        "    127, #Hamburg SV\n",
        "    124, #Dortmund\n",
        "    7911, #Hoffenheim\n",
        "    133, #Schalke\n",
        "    131, #Bayer Leverkusen\n",
        "    137, #Werder Bremen\n",
        "    2428, #Hannover\n",
        "    125, #Eintracht Frankfurt\n",
        "    121, #Bochum\n",
        "    268, #B. Monchengladbach\n",
        "    123, #Cottbus\n",
        "    4471, #Karlsruher\n",
        "    2506, #Arminia Bielefeld\n",
        "]\n",
        "la_liga_teams: list[int] = [\n",
        "    6832, #Almeria\n",
        "    5545, #Althletic Bilbao\n",
        "    1068, #Atletico Madrid\n",
        "    83, #Barcelona\n",
        "    244, #Betis\n",
        "    90, #Deportive de la Coruna\n",
        "    88, #Espanyol\n",
        "    2922, #Getafe\n",
        "    99, #Malaga\n",
        "    84, #Mallorca\n",
        "    100, #Numancia\n",
        "    97, #Osasuna\n",
        "    87, #Racing Santender\n",
        "    86, #Real Madrid\n",
        "    2571, #Recreativo Huelva\n",
        "    243, #Sevilla\n",
        "    3788, #Sporting Gijon\n",
        "    94, #Valencia\n",
        "    95, #Real Valladolid\n",
        "    102, #Villarreal\n",
        "]\n",
        "serie_a_teams: list[int] = [\n",
        "    105, #Atalanta\n",
        "    107, #Bologna\n",
        "    2925, #Cagliari\n",
        "    3257, #Catania\n",
        "    238, #Chievo Verona\n",
        "    109, #Fiorentina\n",
        "    3263, #Genoa\n",
        "    110, #Internazionale\n",
        "    111, #Juventus\n",
        "    112, #Lazio\n",
        "    113, #Lecce\n",
        "    103, #Mila\n",
        "    114, #Napoli\n",
        "    2923, #Palermo\n",
        "    117, #Regina\n",
        "    104, #Roma\n",
        "    2734, #Sampdoria\n",
        "    2735, #Siena\n",
        "    239, #Torino\n",
        "    118, #Udinese\n",
        "]\n",
        "\n",
        "ligue_1_teams: list[int] = [\n",
        "    172, #Auxerre\n",
        "    159, #Bordeaux\n",
        "    2927, #Caen\n",
        "    6994, #Grenoble\n",
        "    3236, #Le Havre AC\n",
        "    2697, #Le Mans\n",
        "    166, #Lille\n",
        "    273, #Lorient\n",
        "    167, #Lyon\n",
        "    176, #Marseille\n",
        "    174, #Monaco\n",
        "    3267, #Nancy\n",
        "    165, #Nantes\n",
        "    2502, #Nice\n",
        "    160, #PSG\n",
        "    10677, #Rennes\n",
        "    178, #Saint-Etienne\n",
        "    272, #Sochaux\n",
        "    179, #Toulouse\n",
        "    6732, #Valenciennes\n",
        "]\n",
        "\n",
        "# Filter the dataframe to only include teams from the top 5 leagues\n",
        "df = df.filter(\n",
        "    pl.col(\"team_id\").is_in(\n",
        "        premier_league_teams + bundesliga_teams + la_liga_teams + serie_a_teams + ligue_1_teams\n",
        "    )\n",
        ")\n",
        "\n",
        "\n",
        "df"
      ],
      "metadata": {
        "colab": {
          "base_uri": "https://localhost:8080/",
          "height": 481
        },
        "id": "2qWoFDnHVsHw",
        "outputId": "417b3e86-2daf-463b-9b5f-5681d3cbb838"
      },
      "execution_count": 5,
      "outputs": [
        {
          "output_type": "stream",
          "name": "stdout",
          "text": [
            "Rows removed from df after filtering NaN: 40\n"
          ]
        },
        {
          "output_type": "execute_result",
          "data": {
            "text/plain": [
              "shape: (5_863, 60)\n",
              "┌──────────┬─────────┬───────────┬───────────┬───┬────────────┬────────────┬───────────┬───────────┐\n",
              "│ match_id ┆ team_id ┆ feature_1 ┆ feature_2 ┆ … ┆ feature_55 ┆ goals_scor ┆ goals_all ┆ goal_diff │\n",
              "│ ---      ┆ ---     ┆ ---       ┆ ---       ┆   ┆ ---        ┆ ed         ┆ owed      ┆ erential  │\n",
              "│ i64      ┆ i64     ┆ i64       ┆ i64       ┆   ┆ i64        ┆ ---        ┆ ---       ┆ ---       │\n",
              "│          ┆         ┆           ┆           ┆   ┆            ┆ f64        ┆ f64       ┆ f64       │\n",
              "╞══════════╪═════════╪═══════════╪═══════════╪═══╪════════════╪════════════╪═══════════╪═══════════╡\n",
              "│ 220071   ┆ 362     ┆ 48        ┆ 34        ┆ … ┆ 65         ┆ 2.0        ┆ 1.0       ┆ 1.0       │\n",
              "│ 220071   ┆ 367     ┆ 110       ┆ 101       ┆ … ┆ 13         ┆ 1.0        ┆ 2.0       ┆ -1.0      │\n",
              "│ 220074   ┆ 370     ┆ 14        ┆ 16        ┆ … ┆ 11         ┆ 1.0        ┆ 2.0       ┆ -1.0      │\n",
              "│ 220070   ┆ 359     ┆ 36        ┆ 46        ┆ … ┆ 125        ┆ 2.0        ┆ 0.0       ┆ 2.0       │\n",
              "│ 220070   ┆ 371     ┆ 30        ┆ 60        ┆ … ┆ 28         ┆ 0.0        ┆ 2.0       ┆ -2.0      │\n",
              "│ …        ┆ …       ┆ …         ┆ …         ┆ … ┆ …          ┆ …          ┆ …         ┆ …         │\n",
              "│ 269861   ┆ 364     ┆ 402       ┆ 156       ┆ … ┆ 45         ┆ 1.0        ┆ 0.0       ┆ 1.0       │\n",
              "│ 269809   ┆ 360     ┆ 121       ┆ 121       ┆ … ┆ 3          ┆ 5.0        ┆ 0.0       ┆ 5.0       │\n",
              "│ 269809   ┆ 350     ┆ 109       ┆ 87        ┆ … ┆ 18         ┆ 0.0        ┆ 5.0       ┆ -5.0      │\n",
              "│ 269876   ┆ 385     ┆ 58        ┆ 5         ┆ … ┆ 11         ┆ 1.0        ┆ 4.0       ┆ -3.0      │\n",
              "│ 269876   ┆ 359     ┆ 118       ┆ 31        ┆ … ┆ 10         ┆ 4.0        ┆ 1.0       ┆ 3.0       │\n",
              "└──────────┴─────────┴───────────┴───────────┴───┴────────────┴────────────┴───────────┴───────────┘"
            ],
            "text/html": [
              "<div><style>\n",
              ".dataframe > thead > tr,\n",
              ".dataframe > tbody > tr {\n",
              "  text-align: right;\n",
              "  white-space: pre-wrap;\n",
              "}\n",
              "</style>\n",
              "<small>shape: (5_863, 60)</small><table border=\"1\" class=\"dataframe\"><thead><tr><th>match_id</th><th>team_id</th><th>feature_1</th><th>feature_2</th><th>feature_3</th><th>feature_4</th><th>feature_5</th><th>feature_6</th><th>feature_7</th><th>feature_8</th><th>feature_9</th><th>feature_10</th><th>feature_11</th><th>feature_12</th><th>feature_13</th><th>feature_14</th><th>feature_15</th><th>feature_16</th><th>feature_17</th><th>feature_18</th><th>feature_19</th><th>feature_20</th><th>feature_21</th><th>feature_22</th><th>feature_23</th><th>feature_24</th><th>feature_25</th><th>feature_26</th><th>feature_27</th><th>feature_28</th><th>feature_29</th><th>feature_30</th><th>feature_31</th><th>feature_32</th><th>feature_33</th><th>feature_34</th><th>feature_35</th><th>feature_36</th><th>feature_37</th><th>feature_38</th><th>feature_39</th><th>feature_40</th><th>feature_41</th><th>feature_42</th><th>feature_43</th><th>feature_44</th><th>feature_45</th><th>feature_46</th><th>feature_47</th><th>feature_48</th><th>feature_49</th><th>feature_50</th><th>feature_51</th><th>feature_52</th><th>feature_53</th><th>feature_54</th><th>feature_55</th><th>goals_scored</th><th>goals_allowed</th><th>goal_differential</th></tr><tr><td>i64</td><td>i64</td><td>i64</td><td>i64</td><td>i64</td><td>i64</td><td>i64</td><td>i64</td><td>i64</td><td>i64</td><td>i64</td><td>i64</td><td>i64</td><td>i64</td><td>i64</td><td>i64</td><td>i64</td><td>i64</td><td>i64</td><td>i64</td><td>i64</td><td>i64</td><td>i64</td><td>i64</td><td>i64</td><td>i64</td><td>i64</td><td>i64</td><td>i64</td><td>i64</td><td>i64</td><td>i64</td><td>i64</td><td>i64</td><td>i64</td><td>i64</td><td>i64</td><td>i64</td><td>i64</td><td>i64</td><td>i64</td><td>i64</td><td>i64</td><td>i64</td><td>i64</td><td>i64</td><td>i64</td><td>i64</td><td>i64</td><td>i64</td><td>i64</td><td>i64</td><td>i64</td><td>i64</td><td>i64</td><td>i64</td><td>i64</td><td>f64</td><td>f64</td><td>f64</td></tr></thead><tbody><tr><td>220071</td><td>362</td><td>48</td><td>34</td><td>16</td><td>25</td><td>29</td><td>16</td><td>13</td><td>44</td><td>51</td><td>50</td><td>60</td><td>20</td><td>105</td><td>35</td><td>22</td><td>16</td><td>72</td><td>68</td><td>221</td><td>19</td><td>45</td><td>29</td><td>19</td><td>15</td><td>34</td><td>43</td><td>54</td><td>16</td><td>23</td><td>23</td><td>14</td><td>18</td><td>20</td><td>20</td><td>24</td><td>15</td><td>12</td><td>42</td><td>37</td><td>96</td><td>23</td><td>16</td><td>32</td><td>39</td><td>35</td><td>15</td><td>18</td><td>20</td><td>20</td><td>15</td><td>16</td><td>16</td><td>61</td><td>66</td><td>65</td><td>2.0</td><td>1.0</td><td>1.0</td></tr><tr><td>220071</td><td>367</td><td>110</td><td>101</td><td>39</td><td>48</td><td>79</td><td>63</td><td>52</td><td>78</td><td>18</td><td>11</td><td>186</td><td>62</td><td>71</td><td>112</td><td>88</td><td>70</td><td>120</td><td>21</td><td>14</td><td>64</td><td>72</td><td>116</td><td>89</td><td>70</td><td>100</td><td>22</td><td>14</td><td>65</td><td>59</td><td>55</td><td>61</td><td>53</td><td>23</td><td>15</td><td>69</td><td>57</td><td>67</td><td>62</td><td>23</td><td>14</td><td>81</td><td>70</td><td>91</td><td>17</td><td>10</td><td>55</td><td>75</td><td>19</td><td>15</td><td>56</td><td>21</td><td>12</td><td>19</td><td>14</td><td>13</td><td>1.0</td><td>2.0</td><td>-1.0</td></tr><tr><td>220074</td><td>370</td><td>14</td><td>16</td><td>39</td><td>31</td><td>14</td><td>16</td><td>30</td><td>54</td><td>13</td><td>17</td><td>48</td><td>8</td><td>19</td><td>11</td><td>18</td><td>19</td><td>19</td><td>8</td><td>18</td><td>2</td><td>17</td><td>14</td><td>15</td><td>17</td><td>16</td><td>8</td><td>16</td><td>20</td><td>2</td><td>8</td><td>20</td><td>110</td><td>12</td><td>7</td><td>15</td><td>21</td><td>37</td><td>36</td><td>12</td><td>22</td><td>39</td><td>15</td><td>14</td><td>8</td><td>15</td><td>21</td><td>20</td><td>9</td><td>20</td><td>43</td><td>13</td><td>22</td><td>17</td><td>21</td><td>11</td><td>1.0</td><td>2.0</td><td>-1.0</td></tr><tr><td>220070</td><td>359</td><td>36</td><td>46</td><td>38</td><td>44</td><td>20</td><td>33</td><td>37</td><td>11</td><td>41</td><td>25</td><td>56</td><td>47</td><td>56</td><td>32</td><td>31</td><td>44</td><td>11</td><td>50</td><td>39</td><td>75</td><td>161</td><td>72</td><td>91</td><td>102</td><td>16</td><td>162</td><td>133</td><td>76</td><td>32</td><td>57</td><td>56</td><td>12</td><td>71</td><td>59</td><td>74</td><td>106</td><td>132</td><td>15</td><td>163</td><td>123</td><td>30</td><td>54</td><td>7</td><td>70</td><td>50</td><td>55</td><td>10</td><td>86</td><td>74</td><td>15</td><td>98</td><td>75</td><td>11</td><td>13</td><td>125</td><td>2.0</td><td>0.0</td><td>2.0</td></tr><tr><td>220070</td><td>371</td><td>30</td><td>60</td><td>21</td><td>13</td><td>49</td><td>42</td><td>141</td><td>16</td><td>49</td><td>60</td><td>33</td><td>20</td><td>13</td><td>32</td><td>24</td><td>20</td><td>9</td><td>29</td><td>28</td><td>24</td><td>14</td><td>51</td><td>40</td><td>43</td><td>14</td><td>52</td><td>32</td><td>26</td><td>22</td><td>17</td><td>12</td><td>8</td><td>20</td><td>19</td><td>14</td><td>12</td><td>6</td><td>6</td><td>11</td><td>12</td><td>30</td><td>33</td><td>12</td><td>46</td><td>30</td><td>26</td><td>15</td><td>30</td><td>22</td><td>10</td><td>34</td><td>52</td><td>11</td><td>6</td><td>28</td><td>0.0</td><td>2.0</td><td>-2.0</td></tr><tr><td>&hellip;</td><td>&hellip;</td><td>&hellip;</td><td>&hellip;</td><td>&hellip;</td><td>&hellip;</td><td>&hellip;</td><td>&hellip;</td><td>&hellip;</td><td>&hellip;</td><td>&hellip;</td><td>&hellip;</td><td>&hellip;</td><td>&hellip;</td><td>&hellip;</td><td>&hellip;</td><td>&hellip;</td><td>&hellip;</td><td>&hellip;</td><td>&hellip;</td><td>&hellip;</td><td>&hellip;</td><td>&hellip;</td><td>&hellip;</td><td>&hellip;</td><td>&hellip;</td><td>&hellip;</td><td>&hellip;</td><td>&hellip;</td><td>&hellip;</td><td>&hellip;</td><td>&hellip;</td><td>&hellip;</td><td>&hellip;</td><td>&hellip;</td><td>&hellip;</td><td>&hellip;</td><td>&hellip;</td><td>&hellip;</td><td>&hellip;</td><td>&hellip;</td><td>&hellip;</td><td>&hellip;</td><td>&hellip;</td><td>&hellip;</td><td>&hellip;</td><td>&hellip;</td><td>&hellip;</td><td>&hellip;</td><td>&hellip;</td><td>&hellip;</td><td>&hellip;</td><td>&hellip;</td><td>&hellip;</td><td>&hellip;</td><td>&hellip;</td><td>&hellip;</td><td>&hellip;</td><td>&hellip;</td><td>&hellip;</td></tr><tr><td>269861</td><td>364</td><td>402</td><td>156</td><td>213</td><td>10</td><td>109</td><td>34</td><td>92</td><td>106</td><td>41</td><td>94</td><td>170</td><td>233</td><td>10</td><td>122</td><td>22</td><td>105</td><td>118</td><td>47</td><td>107</td><td>168</td><td>12</td><td>116</td><td>20</td><td>97</td><td>111</td><td>47</td><td>98</td><td>12</td><td>120</td><td>21</td><td>156</td><td>118</td><td>48</td><td>100</td><td>12</td><td>7</td><td>6</td><td>11</td><td>12</td><td>10</td><td>20</td><td>94</td><td>62</td><td>46</td><td>101</td><td>16</td><td>11</td><td>20</td><td>20</td><td>47</td><td>33</td><td>78</td><td>32</td><td>54</td><td>45</td><td>1.0</td><td>0.0</td><td>1.0</td></tr><tr><td>269809</td><td>360</td><td>121</td><td>121</td><td>57</td><td>154</td><td>158</td><td>88</td><td>138</td><td>138</td><td>33</td><td>24</td><td>168</td><td>24</td><td>130</td><td>190</td><td>85</td><td>123</td><td>114</td><td>14</td><td>18</td><td>55</td><td>125</td><td>183</td><td>105</td><td>128</td><td>124</td><td>36</td><td>21</td><td>51</td><td>57</td><td>51</td><td>56</td><td>58</td><td>30</td><td>22</td><td>144</td><td>87</td><td>140</td><td>138</td><td>37</td><td>26</td><td>125</td><td>156</td><td>150</td><td>34</td><td>23</td><td>101</td><td>99</td><td>33</td><td>13</td><td>147</td><td>34</td><td>25</td><td>44</td><td>17</td><td>3</td><td>5.0</td><td>0.0</td><td>5.0</td></tr><tr><td>269809</td><td>350</td><td>109</td><td>87</td><td>80</td><td>103</td><td>27</td><td>15</td><td>55</td><td>16</td><td>17</td><td>29</td><td>85</td><td>78</td><td>105</td><td>31</td><td>19</td><td>60</td><td>18</td><td>18</td><td>35</td><td>80</td><td>85</td><td>99</td><td>18</td><td>59</td><td>17</td><td>18</td><td>33</td><td>78</td><td>30</td><td>18</td><td>54</td><td>17</td><td>18</td><td>33</td><td>29</td><td>18</td><td>56</td><td>18</td><td>18</td><td>33</td><td>18</td><td>30</td><td>17</td><td>18</td><td>31</td><td>18</td><td>15</td><td>15</td><td>19</td><td>30</td><td>17</td><td>34</td><td>17</td><td>18</td><td>18</td><td>0.0</td><td>5.0</td><td>-5.0</td></tr><tr><td>269876</td><td>385</td><td>58</td><td>5</td><td>9</td><td>9</td><td>41</td><td>31</td><td>6</td><td>14</td><td>6</td><td>32</td><td>6</td><td>9</td><td>4</td><td>48</td><td>37</td><td>7</td><td>10</td><td>7</td><td>43</td><td>9</td><td>6</td><td>9</td><td>7</td><td>8</td><td>8</td><td>9</td><td>7</td><td>11</td><td>16</td><td>15</td><td>14</td><td>15</td><td>13</td><td>12</td><td>17</td><td>16</td><td>9</td><td>15</td><td>9</td><td>13</td><td>46</td><td>13</td><td>20</td><td>13</td><td>36</td><td>29</td><td>19</td><td>11</td><td>30</td><td>12</td><td>12</td><td>10</td><td>11</td><td>16</td><td>11</td><td>1.0</td><td>4.0</td><td>-3.0</td></tr><tr><td>269876</td><td>359</td><td>118</td><td>31</td><td>47</td><td>108</td><td>26</td><td>80</td><td>55</td><td>72</td><td>21</td><td>56</td><td>29</td><td>44</td><td>96</td><td>21</td><td>108</td><td>50</td><td>96</td><td>22</td><td>59</td><td>22</td><td>38</td><td>23</td><td>37</td><td>24</td><td>28</td><td>9</td><td>32</td><td>50</td><td>21</td><td>40</td><td>20</td><td>42</td><td>17</td><td>27</td><td>26</td><td>80</td><td>58</td><td>82</td><td>17</td><td>65</td><td>25</td><td>13</td><td>21</td><td>9</td><td>25</td><td>51</td><td>73</td><td>20</td><td>68</td><td>42</td><td>7</td><td>47</td><td>18</td><td>49</td><td>10</td><td>4.0</td><td>1.0</td><td>3.0</td></tr></tbody></table></div>"
            ]
          },
          "metadata": {},
          "execution_count": 5
        }
      ]
    },
    {
      "cell_type": "markdown",
      "source": [
        "Set aside 10% of your datapoints as a Test set. This will be used to compare the final performance of\n",
        " all the models we train. The remaining 90% of your data will be referred to as your Train/Validation\n",
        " dataset.\n"
      ],
      "metadata": {
        "id": "rTKRzSBbWhuk"
      }
    },
    {
      "cell_type": "code",
      "source": [
        "# Stratify the shuffling based on match_id\n",
        "#   (This ensures we have no data leakage)\n",
        "match_ids = df['match_id'].unique()\n",
        "\n",
        "# Create a gss object to allocate 10% to test set\n",
        "gss = GroupShuffleSplit(n_splits=1, test_size=0.1, random_state=random_state)\n",
        "# Split groups based on the criteria of retaining inputs for teams of the same match\n",
        "train_holdout_idx, test_idx = next(gss.split(df, groups=df['match_id']))\n",
        "\n",
        "# Split the df based on the indexes from the split\n",
        "train_holdout_df = df[train_holdout_idx]\n",
        "test_df = df[test_idx]\n",
        "\n",
        "# Check percentages\n",
        "print(f\"Train/Holdout shape: {train_holdout_df.shape} ~{train_holdout_df.shape[0]/df.shape[0]*100:.2f}%\") # 90%\n",
        "print(f\"Test shape: {test_df.shape} ~{(test_df.shape[0]/df.shape[0]*100):.2f}%\") # 10%\n",
        "\n",
        "# Grab feature rows\n",
        "X_columns = [f\"feature_{i+1}\" for i in range(55)]\n",
        "y_column = [\"goal_differential\"]\n",
        "\n",
        "# Set aside final test dataset\n",
        "X_test, y_test = test_df[X_columns], test_df[y_column] # This is the final test dataset\n",
        "# train holdout data\n",
        "X_train_holdout, y_train_holdout = train_holdout_df[X_columns], train_holdout_df[y_column]"
      ],
      "metadata": {
        "colab": {
          "base_uri": "https://localhost:8080/"
        },
        "id": "gOVnTkmQWiFI",
        "outputId": "b7034bed-2f7f-408d-8d04-9829d1f0e1cd"
      },
      "execution_count": 6,
      "outputs": [
        {
          "output_type": "stream",
          "name": "stdout",
          "text": [
            "Train/Holdout shape: (5272, 60) ~89.92%\n",
            "Test shape: (591, 60) ~10.08%\n"
          ]
        }
      ]
    },
    {
      "cell_type": "markdown",
      "source": [
        "Select a method to estimate the value of your error function on new data (Enew). We will be using Option 2: Holdout cross validation, and split the data as follows: 80% train / 20% validate."
      ],
      "metadata": {
        "id": "MrTWN8EpW3_g"
      }
    },
    {
      "cell_type": "code",
      "source": [
        "gss2 = GroupShuffleSplit(n_splits=1, test_size=20/90, random_state=random_state)\n",
        "train_idx, holdout_idx = next(gss2.split(train_holdout_df, groups=train_holdout_df['match_id']))\n",
        "train_df = train_holdout_df[train_idx]\n",
        "holdout_df = train_holdout_df[holdout_idx]\n",
        "\n",
        "print(f\"Train shape: {train_df.shape} ~{train_df.shape[0]/df.shape[0]*100:.2f}%\") # ~70% of total data\n",
        "print(f\"Holdout shape: {holdout_df.shape} ~{holdout_df.shape[0]/df.shape[0]*100:.2f}%\") # ~20% of total data\n",
        "\n",
        "X_train, y_train = train_df[X_columns], train_df[y_column]\n",
        "X_holdout, y_holdout = holdout_df[X_columns], holdout_df[y_column]"
      ],
      "metadata": {
        "colab": {
          "base_uri": "https://localhost:8080/"
        },
        "id": "l-mr0_1NW3xP",
        "outputId": "d1681ac2-df56-4f6f-ab52-4ab84e841d80"
      },
      "execution_count": 7,
      "outputs": [
        {
          "output_type": "stream",
          "name": "stdout",
          "text": [
            "Train shape: (4103, 60) ~69.98%\n",
            "Holdout shape: (1169, 60) ~19.94%\n"
          ]
        }
      ]
    },
    {
      "cell_type": "code",
      "source": [
        "X_train = X_train.to_numpy()\n",
        "y_train = y_train.to_numpy()\n",
        "X_holdout = X_holdout.to_numpy()\n",
        "y_holdout = y_holdout.to_numpy()\n",
        "X_test = X_test.to_numpy()\n",
        "y_test = y_test.to_numpy()\n"
      ],
      "metadata": {
        "id": "w0wk11gcWuUJ"
      },
      "execution_count": 8,
      "outputs": []
    },
    {
      "cell_type": "code",
      "source": [
        "print(X_train[0])\n",
        "print(y_train[0])"
      ],
      "metadata": {
        "colab": {
          "base_uri": "https://localhost:8080/"
        },
        "id": "uZTYTTT1XC_1",
        "outputId": "ec68a2eb-5fba-47c4-beef-f53490440269"
      },
      "execution_count": 9,
      "outputs": [
        {
          "output_type": "stream",
          "name": "stdout",
          "text": [
            "[ 48  34  16  25  29  16  13  44  51  50  60  20 105  35  22  16  72  68\n",
            " 221  19  45  29  19  15  34  43  54  16  23  23  14  18  20  20  24  15\n",
            "  12  42  37  96  23  16  32  39  35  15  18  20  20  15  16  16  61  66\n",
            "  65]\n",
            "[1.]\n"
          ]
        }
      ]
    },
    {
      "cell_type": "code",
      "source": [
        "# Create a DummyRegressor\n",
        "dummy_regressor = DummyRegressor(strategy='mean')\n",
        "\n",
        "# Fit the regressor\n",
        "dummy_regressor.fit(X_train, y_train)\n",
        "\n",
        "# Make predictions\n",
        "y_pred_dummy = dummy_regressor.predict(X_holdout)\n",
        "\n",
        "# Estimate of E_new\n",
        "mse_dummy = mean_squared_error(y_holdout, y_pred_dummy)\n",
        "print(f\"Dummy Regressor MSE: {mse_dummy}\")\n",
        "\n",
        "baseline_model = Pipeline([\n",
        "    (\"dummy_regressor\", DummyRegressor(strategy='mean'))\n",
        "])\n",
        "baseline_model.fit(X_train_holdout, y_train_holdout)"
      ],
      "metadata": {
        "colab": {
          "base_uri": "https://localhost:8080/",
          "height": 133
        },
        "id": "HpERSU9SXg-l",
        "outputId": "0652168b-d2a3-4319-d037-cf3e1de05639"
      },
      "execution_count": 10,
      "outputs": [
        {
          "output_type": "stream",
          "name": "stdout",
          "text": [
            "Dummy Regressor MSE: 3.303030709626124\n"
          ]
        },
        {
          "output_type": "execute_result",
          "data": {
            "text/plain": [
              "Pipeline(steps=[('dummy_regressor', DummyRegressor())])"
            ],
            "text/html": [
              "<style>#sk-container-id-1 {\n",
              "  /* Definition of color scheme common for light and dark mode */\n",
              "  --sklearn-color-text: #000;\n",
              "  --sklearn-color-text-muted: #666;\n",
              "  --sklearn-color-line: gray;\n",
              "  /* Definition of color scheme for unfitted estimators */\n",
              "  --sklearn-color-unfitted-level-0: #fff5e6;\n",
              "  --sklearn-color-unfitted-level-1: #f6e4d2;\n",
              "  --sklearn-color-unfitted-level-2: #ffe0b3;\n",
              "  --sklearn-color-unfitted-level-3: chocolate;\n",
              "  /* Definition of color scheme for fitted estimators */\n",
              "  --sklearn-color-fitted-level-0: #f0f8ff;\n",
              "  --sklearn-color-fitted-level-1: #d4ebff;\n",
              "  --sklearn-color-fitted-level-2: #b3dbfd;\n",
              "  --sklearn-color-fitted-level-3: cornflowerblue;\n",
              "\n",
              "  /* Specific color for light theme */\n",
              "  --sklearn-color-text-on-default-background: var(--sg-text-color, var(--theme-code-foreground, var(--jp-content-font-color1, black)));\n",
              "  --sklearn-color-background: var(--sg-background-color, var(--theme-background, var(--jp-layout-color0, white)));\n",
              "  --sklearn-color-border-box: var(--sg-text-color, var(--theme-code-foreground, var(--jp-content-font-color1, black)));\n",
              "  --sklearn-color-icon: #696969;\n",
              "\n",
              "  @media (prefers-color-scheme: dark) {\n",
              "    /* Redefinition of color scheme for dark theme */\n",
              "    --sklearn-color-text-on-default-background: var(--sg-text-color, var(--theme-code-foreground, var(--jp-content-font-color1, white)));\n",
              "    --sklearn-color-background: var(--sg-background-color, var(--theme-background, var(--jp-layout-color0, #111)));\n",
              "    --sklearn-color-border-box: var(--sg-text-color, var(--theme-code-foreground, var(--jp-content-font-color1, white)));\n",
              "    --sklearn-color-icon: #878787;\n",
              "  }\n",
              "}\n",
              "\n",
              "#sk-container-id-1 {\n",
              "  color: var(--sklearn-color-text);\n",
              "}\n",
              "\n",
              "#sk-container-id-1 pre {\n",
              "  padding: 0;\n",
              "}\n",
              "\n",
              "#sk-container-id-1 input.sk-hidden--visually {\n",
              "  border: 0;\n",
              "  clip: rect(1px 1px 1px 1px);\n",
              "  clip: rect(1px, 1px, 1px, 1px);\n",
              "  height: 1px;\n",
              "  margin: -1px;\n",
              "  overflow: hidden;\n",
              "  padding: 0;\n",
              "  position: absolute;\n",
              "  width: 1px;\n",
              "}\n",
              "\n",
              "#sk-container-id-1 div.sk-dashed-wrapped {\n",
              "  border: 1px dashed var(--sklearn-color-line);\n",
              "  margin: 0 0.4em 0.5em 0.4em;\n",
              "  box-sizing: border-box;\n",
              "  padding-bottom: 0.4em;\n",
              "  background-color: var(--sklearn-color-background);\n",
              "}\n",
              "\n",
              "#sk-container-id-1 div.sk-container {\n",
              "  /* jupyter's `normalize.less` sets `[hidden] { display: none; }`\n",
              "     but bootstrap.min.css set `[hidden] { display: none !important; }`\n",
              "     so we also need the `!important` here to be able to override the\n",
              "     default hidden behavior on the sphinx rendered scikit-learn.org.\n",
              "     See: https://github.com/scikit-learn/scikit-learn/issues/21755 */\n",
              "  display: inline-block !important;\n",
              "  position: relative;\n",
              "}\n",
              "\n",
              "#sk-container-id-1 div.sk-text-repr-fallback {\n",
              "  display: none;\n",
              "}\n",
              "\n",
              "div.sk-parallel-item,\n",
              "div.sk-serial,\n",
              "div.sk-item {\n",
              "  /* draw centered vertical line to link estimators */\n",
              "  background-image: linear-gradient(var(--sklearn-color-text-on-default-background), var(--sklearn-color-text-on-default-background));\n",
              "  background-size: 2px 100%;\n",
              "  background-repeat: no-repeat;\n",
              "  background-position: center center;\n",
              "}\n",
              "\n",
              "/* Parallel-specific style estimator block */\n",
              "\n",
              "#sk-container-id-1 div.sk-parallel-item::after {\n",
              "  content: \"\";\n",
              "  width: 100%;\n",
              "  border-bottom: 2px solid var(--sklearn-color-text-on-default-background);\n",
              "  flex-grow: 1;\n",
              "}\n",
              "\n",
              "#sk-container-id-1 div.sk-parallel {\n",
              "  display: flex;\n",
              "  align-items: stretch;\n",
              "  justify-content: center;\n",
              "  background-color: var(--sklearn-color-background);\n",
              "  position: relative;\n",
              "}\n",
              "\n",
              "#sk-container-id-1 div.sk-parallel-item {\n",
              "  display: flex;\n",
              "  flex-direction: column;\n",
              "}\n",
              "\n",
              "#sk-container-id-1 div.sk-parallel-item:first-child::after {\n",
              "  align-self: flex-end;\n",
              "  width: 50%;\n",
              "}\n",
              "\n",
              "#sk-container-id-1 div.sk-parallel-item:last-child::after {\n",
              "  align-self: flex-start;\n",
              "  width: 50%;\n",
              "}\n",
              "\n",
              "#sk-container-id-1 div.sk-parallel-item:only-child::after {\n",
              "  width: 0;\n",
              "}\n",
              "\n",
              "/* Serial-specific style estimator block */\n",
              "\n",
              "#sk-container-id-1 div.sk-serial {\n",
              "  display: flex;\n",
              "  flex-direction: column;\n",
              "  align-items: center;\n",
              "  background-color: var(--sklearn-color-background);\n",
              "  padding-right: 1em;\n",
              "  padding-left: 1em;\n",
              "}\n",
              "\n",
              "\n",
              "/* Toggleable style: style used for estimator/Pipeline/ColumnTransformer box that is\n",
              "clickable and can be expanded/collapsed.\n",
              "- Pipeline and ColumnTransformer use this feature and define the default style\n",
              "- Estimators will overwrite some part of the style using the `sk-estimator` class\n",
              "*/\n",
              "\n",
              "/* Pipeline and ColumnTransformer style (default) */\n",
              "\n",
              "#sk-container-id-1 div.sk-toggleable {\n",
              "  /* Default theme specific background. It is overwritten whether we have a\n",
              "  specific estimator or a Pipeline/ColumnTransformer */\n",
              "  background-color: var(--sklearn-color-background);\n",
              "}\n",
              "\n",
              "/* Toggleable label */\n",
              "#sk-container-id-1 label.sk-toggleable__label {\n",
              "  cursor: pointer;\n",
              "  display: flex;\n",
              "  width: 100%;\n",
              "  margin-bottom: 0;\n",
              "  padding: 0.5em;\n",
              "  box-sizing: border-box;\n",
              "  text-align: center;\n",
              "  align-items: start;\n",
              "  justify-content: space-between;\n",
              "  gap: 0.5em;\n",
              "}\n",
              "\n",
              "#sk-container-id-1 label.sk-toggleable__label .caption {\n",
              "  font-size: 0.6rem;\n",
              "  font-weight: lighter;\n",
              "  color: var(--sklearn-color-text-muted);\n",
              "}\n",
              "\n",
              "#sk-container-id-1 label.sk-toggleable__label-arrow:before {\n",
              "  /* Arrow on the left of the label */\n",
              "  content: \"▸\";\n",
              "  float: left;\n",
              "  margin-right: 0.25em;\n",
              "  color: var(--sklearn-color-icon);\n",
              "}\n",
              "\n",
              "#sk-container-id-1 label.sk-toggleable__label-arrow:hover:before {\n",
              "  color: var(--sklearn-color-text);\n",
              "}\n",
              "\n",
              "/* Toggleable content - dropdown */\n",
              "\n",
              "#sk-container-id-1 div.sk-toggleable__content {\n",
              "  max-height: 0;\n",
              "  max-width: 0;\n",
              "  overflow: hidden;\n",
              "  text-align: left;\n",
              "  /* unfitted */\n",
              "  background-color: var(--sklearn-color-unfitted-level-0);\n",
              "}\n",
              "\n",
              "#sk-container-id-1 div.sk-toggleable__content.fitted {\n",
              "  /* fitted */\n",
              "  background-color: var(--sklearn-color-fitted-level-0);\n",
              "}\n",
              "\n",
              "#sk-container-id-1 div.sk-toggleable__content pre {\n",
              "  margin: 0.2em;\n",
              "  border-radius: 0.25em;\n",
              "  color: var(--sklearn-color-text);\n",
              "  /* unfitted */\n",
              "  background-color: var(--sklearn-color-unfitted-level-0);\n",
              "}\n",
              "\n",
              "#sk-container-id-1 div.sk-toggleable__content.fitted pre {\n",
              "  /* unfitted */\n",
              "  background-color: var(--sklearn-color-fitted-level-0);\n",
              "}\n",
              "\n",
              "#sk-container-id-1 input.sk-toggleable__control:checked~div.sk-toggleable__content {\n",
              "  /* Expand drop-down */\n",
              "  max-height: 200px;\n",
              "  max-width: 100%;\n",
              "  overflow: auto;\n",
              "}\n",
              "\n",
              "#sk-container-id-1 input.sk-toggleable__control:checked~label.sk-toggleable__label-arrow:before {\n",
              "  content: \"▾\";\n",
              "}\n",
              "\n",
              "/* Pipeline/ColumnTransformer-specific style */\n",
              "\n",
              "#sk-container-id-1 div.sk-label input.sk-toggleable__control:checked~label.sk-toggleable__label {\n",
              "  color: var(--sklearn-color-text);\n",
              "  background-color: var(--sklearn-color-unfitted-level-2);\n",
              "}\n",
              "\n",
              "#sk-container-id-1 div.sk-label.fitted input.sk-toggleable__control:checked~label.sk-toggleable__label {\n",
              "  background-color: var(--sklearn-color-fitted-level-2);\n",
              "}\n",
              "\n",
              "/* Estimator-specific style */\n",
              "\n",
              "/* Colorize estimator box */\n",
              "#sk-container-id-1 div.sk-estimator input.sk-toggleable__control:checked~label.sk-toggleable__label {\n",
              "  /* unfitted */\n",
              "  background-color: var(--sklearn-color-unfitted-level-2);\n",
              "}\n",
              "\n",
              "#sk-container-id-1 div.sk-estimator.fitted input.sk-toggleable__control:checked~label.sk-toggleable__label {\n",
              "  /* fitted */\n",
              "  background-color: var(--sklearn-color-fitted-level-2);\n",
              "}\n",
              "\n",
              "#sk-container-id-1 div.sk-label label.sk-toggleable__label,\n",
              "#sk-container-id-1 div.sk-label label {\n",
              "  /* The background is the default theme color */\n",
              "  color: var(--sklearn-color-text-on-default-background);\n",
              "}\n",
              "\n",
              "/* On hover, darken the color of the background */\n",
              "#sk-container-id-1 div.sk-label:hover label.sk-toggleable__label {\n",
              "  color: var(--sklearn-color-text);\n",
              "  background-color: var(--sklearn-color-unfitted-level-2);\n",
              "}\n",
              "\n",
              "/* Label box, darken color on hover, fitted */\n",
              "#sk-container-id-1 div.sk-label.fitted:hover label.sk-toggleable__label.fitted {\n",
              "  color: var(--sklearn-color-text);\n",
              "  background-color: var(--sklearn-color-fitted-level-2);\n",
              "}\n",
              "\n",
              "/* Estimator label */\n",
              "\n",
              "#sk-container-id-1 div.sk-label label {\n",
              "  font-family: monospace;\n",
              "  font-weight: bold;\n",
              "  display: inline-block;\n",
              "  line-height: 1.2em;\n",
              "}\n",
              "\n",
              "#sk-container-id-1 div.sk-label-container {\n",
              "  text-align: center;\n",
              "}\n",
              "\n",
              "/* Estimator-specific */\n",
              "#sk-container-id-1 div.sk-estimator {\n",
              "  font-family: monospace;\n",
              "  border: 1px dotted var(--sklearn-color-border-box);\n",
              "  border-radius: 0.25em;\n",
              "  box-sizing: border-box;\n",
              "  margin-bottom: 0.5em;\n",
              "  /* unfitted */\n",
              "  background-color: var(--sklearn-color-unfitted-level-0);\n",
              "}\n",
              "\n",
              "#sk-container-id-1 div.sk-estimator.fitted {\n",
              "  /* fitted */\n",
              "  background-color: var(--sklearn-color-fitted-level-0);\n",
              "}\n",
              "\n",
              "/* on hover */\n",
              "#sk-container-id-1 div.sk-estimator:hover {\n",
              "  /* unfitted */\n",
              "  background-color: var(--sklearn-color-unfitted-level-2);\n",
              "}\n",
              "\n",
              "#sk-container-id-1 div.sk-estimator.fitted:hover {\n",
              "  /* fitted */\n",
              "  background-color: var(--sklearn-color-fitted-level-2);\n",
              "}\n",
              "\n",
              "/* Specification for estimator info (e.g. \"i\" and \"?\") */\n",
              "\n",
              "/* Common style for \"i\" and \"?\" */\n",
              "\n",
              ".sk-estimator-doc-link,\n",
              "a:link.sk-estimator-doc-link,\n",
              "a:visited.sk-estimator-doc-link {\n",
              "  float: right;\n",
              "  font-size: smaller;\n",
              "  line-height: 1em;\n",
              "  font-family: monospace;\n",
              "  background-color: var(--sklearn-color-background);\n",
              "  border-radius: 1em;\n",
              "  height: 1em;\n",
              "  width: 1em;\n",
              "  text-decoration: none !important;\n",
              "  margin-left: 0.5em;\n",
              "  text-align: center;\n",
              "  /* unfitted */\n",
              "  border: var(--sklearn-color-unfitted-level-1) 1pt solid;\n",
              "  color: var(--sklearn-color-unfitted-level-1);\n",
              "}\n",
              "\n",
              ".sk-estimator-doc-link.fitted,\n",
              "a:link.sk-estimator-doc-link.fitted,\n",
              "a:visited.sk-estimator-doc-link.fitted {\n",
              "  /* fitted */\n",
              "  border: var(--sklearn-color-fitted-level-1) 1pt solid;\n",
              "  color: var(--sklearn-color-fitted-level-1);\n",
              "}\n",
              "\n",
              "/* On hover */\n",
              "div.sk-estimator:hover .sk-estimator-doc-link:hover,\n",
              ".sk-estimator-doc-link:hover,\n",
              "div.sk-label-container:hover .sk-estimator-doc-link:hover,\n",
              ".sk-estimator-doc-link:hover {\n",
              "  /* unfitted */\n",
              "  background-color: var(--sklearn-color-unfitted-level-3);\n",
              "  color: var(--sklearn-color-background);\n",
              "  text-decoration: none;\n",
              "}\n",
              "\n",
              "div.sk-estimator.fitted:hover .sk-estimator-doc-link.fitted:hover,\n",
              ".sk-estimator-doc-link.fitted:hover,\n",
              "div.sk-label-container:hover .sk-estimator-doc-link.fitted:hover,\n",
              ".sk-estimator-doc-link.fitted:hover {\n",
              "  /* fitted */\n",
              "  background-color: var(--sklearn-color-fitted-level-3);\n",
              "  color: var(--sklearn-color-background);\n",
              "  text-decoration: none;\n",
              "}\n",
              "\n",
              "/* Span, style for the box shown on hovering the info icon */\n",
              ".sk-estimator-doc-link span {\n",
              "  display: none;\n",
              "  z-index: 9999;\n",
              "  position: relative;\n",
              "  font-weight: normal;\n",
              "  right: .2ex;\n",
              "  padding: .5ex;\n",
              "  margin: .5ex;\n",
              "  width: min-content;\n",
              "  min-width: 20ex;\n",
              "  max-width: 50ex;\n",
              "  color: var(--sklearn-color-text);\n",
              "  box-shadow: 2pt 2pt 4pt #999;\n",
              "  /* unfitted */\n",
              "  background: var(--sklearn-color-unfitted-level-0);\n",
              "  border: .5pt solid var(--sklearn-color-unfitted-level-3);\n",
              "}\n",
              "\n",
              ".sk-estimator-doc-link.fitted span {\n",
              "  /* fitted */\n",
              "  background: var(--sklearn-color-fitted-level-0);\n",
              "  border: var(--sklearn-color-fitted-level-3);\n",
              "}\n",
              "\n",
              ".sk-estimator-doc-link:hover span {\n",
              "  display: block;\n",
              "}\n",
              "\n",
              "/* \"?\"-specific style due to the `<a>` HTML tag */\n",
              "\n",
              "#sk-container-id-1 a.estimator_doc_link {\n",
              "  float: right;\n",
              "  font-size: 1rem;\n",
              "  line-height: 1em;\n",
              "  font-family: monospace;\n",
              "  background-color: var(--sklearn-color-background);\n",
              "  border-radius: 1rem;\n",
              "  height: 1rem;\n",
              "  width: 1rem;\n",
              "  text-decoration: none;\n",
              "  /* unfitted */\n",
              "  color: var(--sklearn-color-unfitted-level-1);\n",
              "  border: var(--sklearn-color-unfitted-level-1) 1pt solid;\n",
              "}\n",
              "\n",
              "#sk-container-id-1 a.estimator_doc_link.fitted {\n",
              "  /* fitted */\n",
              "  border: var(--sklearn-color-fitted-level-1) 1pt solid;\n",
              "  color: var(--sklearn-color-fitted-level-1);\n",
              "}\n",
              "\n",
              "/* On hover */\n",
              "#sk-container-id-1 a.estimator_doc_link:hover {\n",
              "  /* unfitted */\n",
              "  background-color: var(--sklearn-color-unfitted-level-3);\n",
              "  color: var(--sklearn-color-background);\n",
              "  text-decoration: none;\n",
              "}\n",
              "\n",
              "#sk-container-id-1 a.estimator_doc_link.fitted:hover {\n",
              "  /* fitted */\n",
              "  background-color: var(--sklearn-color-fitted-level-3);\n",
              "}\n",
              "</style><div id=\"sk-container-id-1\" class=\"sk-top-container\"><div class=\"sk-text-repr-fallback\"><pre>Pipeline(steps=[(&#x27;dummy_regressor&#x27;, DummyRegressor())])</pre><b>In a Jupyter environment, please rerun this cell to show the HTML representation or trust the notebook. <br />On GitHub, the HTML representation is unable to render, please try loading this page with nbviewer.org.</b></div><div class=\"sk-container\" hidden><div class=\"sk-item sk-dashed-wrapped\"><div class=\"sk-label-container\"><div class=\"sk-label fitted sk-toggleable\"><input class=\"sk-toggleable__control sk-hidden--visually\" id=\"sk-estimator-id-1\" type=\"checkbox\" ><label for=\"sk-estimator-id-1\" class=\"sk-toggleable__label fitted sk-toggleable__label-arrow\"><div><div>Pipeline</div></div><div><a class=\"sk-estimator-doc-link fitted\" rel=\"noreferrer\" target=\"_blank\" href=\"https://scikit-learn.org/1.6/modules/generated/sklearn.pipeline.Pipeline.html\">?<span>Documentation for Pipeline</span></a><span class=\"sk-estimator-doc-link fitted\">i<span>Fitted</span></span></div></label><div class=\"sk-toggleable__content fitted\"><pre>Pipeline(steps=[(&#x27;dummy_regressor&#x27;, DummyRegressor())])</pre></div> </div></div><div class=\"sk-serial\"><div class=\"sk-item\"><div class=\"sk-estimator fitted sk-toggleable\"><input class=\"sk-toggleable__control sk-hidden--visually\" id=\"sk-estimator-id-2\" type=\"checkbox\" ><label for=\"sk-estimator-id-2\" class=\"sk-toggleable__label fitted sk-toggleable__label-arrow\"><div><div>DummyRegressor</div></div><div><a class=\"sk-estimator-doc-link fitted\" rel=\"noreferrer\" target=\"_blank\" href=\"https://scikit-learn.org/1.6/modules/generated/sklearn.dummy.DummyRegressor.html\">?<span>Documentation for DummyRegressor</span></a></div></label><div class=\"sk-toggleable__content fitted\"><pre>DummyRegressor()</pre></div> </div></div></div></div></div></div>"
            ]
          },
          "metadata": {},
          "execution_count": 10
        }
      ]
    },
    {
      "cell_type": "markdown",
      "source": [
        " 2.2 Train Model Without Dropout / Regularization\n",
        " 1. Set Up the Data\n",
        " • Divide your combined Train/Validation dataset into a training dataset and validation dataset.\n",
        " Clearly state what percentages you used for each.\n",
        " • Choose an initial batch size.\n",
        " 2. Set Up the Model\n",
        " • Create a model using Keras.\n",
        " • Choose an initial loss function for your problem, based on whether you are solving a regression\n",
        " or classification problem. Explain why you chose that particular loss function.\n",
        " • Choose an initial optimization method (for example, stochastic gradient descent) and learning\n",
        " rate (for example, lr = 0.0001). Explain the reasoning behind your choice of optimization\n",
        " method.\n",
        " 3. Train and Compute Validation Loss\n",
        " • Train your model. (It may be helpful to use TensorBoard, WandB, or Neptune.ai to visualize the\n",
        " training / validation error throughout the training process!)\n",
        " • Using the trained model, compute the validation loss on your validation dataset.\n",
        " 4. Hyperparameter Sweep and Final Model\n",
        " • Experiment with different hyperparameters to improve your model’s performance. Examples of\n",
        " hyperparameters you can iterate over include:\n",
        " – Number of layers\n",
        " – Size or shape of each layer\n",
        " – Number of epochs\n",
        " – Batch size\n",
        " – Learning rate\n",
        " – Loss function\n",
        " – Optimization method\n",
        " • Sweep over several hyperparameter combinations and record the Validation Loss. Use the\n",
        " recorded validation losses to compare combinations and select the best model.\n",
        " • Using your best hyperparameter combination, train a final model (without dropout)"
      ],
      "metadata": {
        "id": "rtnfBWsaYFml"
      }
    },
    {
      "cell_type": "code",
      "source": [
        "def create_nn(\n",
        "  input_shape,\n",
        "  width=64,\n",
        "  depth=3,\n",
        "  activation=\"relu\",\n",
        "  learning_rate=1e-3,\n",
        "  optimizer_name=\"adam\",\n",
        "  loss_name=\"mse\",\n",
        "  dropout=0.0,\n",
        "  regularization_name=None, #l1, l2, etc.\n",
        "  regularization_rate=0.0,\n",
        "):\n",
        "\n",
        "  # Set optimizer\n",
        "  if optimizer_name == \"sgd\":\n",
        "    optimizer = keras.optimizers.SGD(learning_rate=learning_rate)\n",
        "  elif optimizer_name == \"adam\":\n",
        "    optimizer = keras.optimizers.Adam(learning_rate=learning_rate)\n",
        "  else: # Default to Adam\n",
        "    optimizer = keras.optimizers.Adam(learning_rate=learning_rate)\n",
        "\n",
        "\n",
        "  # Set Regularization\n",
        "  regularizer = None\n",
        "  if regularization_name is not None:\n",
        "    regularizer = keras.regularizers.get(\n",
        "        {\"class_name\": regularization_name.upper(), \"config\": {regularization_name: regularization_rate}}\n",
        "    )\n",
        "\n",
        "  # Construct Model\n",
        "  # Input Layer\n",
        "  inputs = layers.Input(shape=input_shape)\n",
        "  # First Hidden Layer\n",
        "  x = layers.Dense(\n",
        "      width,\n",
        "      activation=activation,\n",
        "      kernel_regularizer=regularizer,\n",
        "      bias_regularizer=regularizer,\n",
        "      )(inputs)\n",
        "  # N-1 more Hidden Layers\n",
        "  for _ in range(depth-1):\n",
        "      if dropout > 0.0:\n",
        "          x = layers.Dropout(dropout)(x) # (Dropout layer, if applicable)\n",
        "      x = layers.Dense(width, activation=activation)(x)\n",
        "  # Output Layer\n",
        "  outputs = layers.Dense(1, activation='linear')(x)\n",
        "  # Create Model\n",
        "  modelx = keras.Model(inputs=inputs, outputs=outputs)\n",
        "\n",
        "  # Compile Model\n",
        "  modelx.compile(\n",
        "    optimizer=optimizer,\n",
        "    loss=loss_name,\n",
        "    metrics=[],\n",
        "  )\n",
        "\n",
        "  return modelx\n",
        "\n",
        "# Create a default test model\n",
        "model_test = create_nn(\n",
        "  X_train.shape[1:]\n",
        ")\n",
        "model_test.summary()"
      ],
      "metadata": {
        "id": "VqiZ5tFuxb0a",
        "colab": {
          "base_uri": "https://localhost:8080/",
          "height": 289
        },
        "outputId": "19b67455-c6fa-48e9-ff9f-84e29eb0629e"
      },
      "execution_count": 11,
      "outputs": [
        {
          "output_type": "display_data",
          "data": {
            "text/plain": [
              "\u001b[1mModel: \"functional_1\"\u001b[0m\n"
            ],
            "text/html": [
              "<pre style=\"white-space:pre;overflow-x:auto;line-height:normal;font-family:Menlo,'DejaVu Sans Mono',consolas,'Courier New',monospace\"><span style=\"font-weight: bold\">Model: \"functional_1\"</span>\n",
              "</pre>\n"
            ]
          },
          "metadata": {}
        },
        {
          "output_type": "display_data",
          "data": {
            "text/plain": [
              "┏━━━━━━━━━━━━━━━━━━━━━━━━━━━━━━━━━┳━━━━━━━━━━━━━━━━━━━━━━━━━━━┳━━━━━━━━━━━━┓\n",
              "┃\u001b[1m \u001b[0m\u001b[1mLayer (type)                   \u001b[0m\u001b[1m \u001b[0m┃\u001b[1m \u001b[0m\u001b[1mOutput Shape             \u001b[0m\u001b[1m \u001b[0m┃\u001b[1m \u001b[0m\u001b[1m   Param #\u001b[0m\u001b[1m \u001b[0m┃\n",
              "┡━━━━━━━━━━━━━━━━━━━━━━━━━━━━━━━━━╇━━━━━━━━━━━━━━━━━━━━━━━━━━━╇━━━━━━━━━━━━┩\n",
              "│ input_layer (\u001b[38;5;33mInputLayer\u001b[0m)        │ (\u001b[38;5;45mNone\u001b[0m, \u001b[38;5;34m55\u001b[0m)                │          \u001b[38;5;34m0\u001b[0m │\n",
              "├─────────────────────────────────┼───────────────────────────┼────────────┤\n",
              "│ dense (\u001b[38;5;33mDense\u001b[0m)                   │ (\u001b[38;5;45mNone\u001b[0m, \u001b[38;5;34m64\u001b[0m)                │      \u001b[38;5;34m3,584\u001b[0m │\n",
              "├─────────────────────────────────┼───────────────────────────┼────────────┤\n",
              "│ dense_1 (\u001b[38;5;33mDense\u001b[0m)                 │ (\u001b[38;5;45mNone\u001b[0m, \u001b[38;5;34m64\u001b[0m)                │      \u001b[38;5;34m4,160\u001b[0m │\n",
              "├─────────────────────────────────┼───────────────────────────┼────────────┤\n",
              "│ dense_2 (\u001b[38;5;33mDense\u001b[0m)                 │ (\u001b[38;5;45mNone\u001b[0m, \u001b[38;5;34m64\u001b[0m)                │      \u001b[38;5;34m4,160\u001b[0m │\n",
              "├─────────────────────────────────┼───────────────────────────┼────────────┤\n",
              "│ dense_3 (\u001b[38;5;33mDense\u001b[0m)                 │ (\u001b[38;5;45mNone\u001b[0m, \u001b[38;5;34m1\u001b[0m)                 │         \u001b[38;5;34m65\u001b[0m │\n",
              "└─────────────────────────────────┴───────────────────────────┴────────────┘\n"
            ],
            "text/html": [
              "<pre style=\"white-space:pre;overflow-x:auto;line-height:normal;font-family:Menlo,'DejaVu Sans Mono',consolas,'Courier New',monospace\">┏━━━━━━━━━━━━━━━━━━━━━━━━━━━━━━━━━┳━━━━━━━━━━━━━━━━━━━━━━━━━━━┳━━━━━━━━━━━━┓\n",
              "┃<span style=\"font-weight: bold\"> Layer (type)                    </span>┃<span style=\"font-weight: bold\"> Output Shape              </span>┃<span style=\"font-weight: bold\">    Param # </span>┃\n",
              "┡━━━━━━━━━━━━━━━━━━━━━━━━━━━━━━━━━╇━━━━━━━━━━━━━━━━━━━━━━━━━━━╇━━━━━━━━━━━━┩\n",
              "│ input_layer (<span style=\"color: #0087ff; text-decoration-color: #0087ff\">InputLayer</span>)        │ (<span style=\"color: #00d7ff; text-decoration-color: #00d7ff\">None</span>, <span style=\"color: #00af00; text-decoration-color: #00af00\">55</span>)                │          <span style=\"color: #00af00; text-decoration-color: #00af00\">0</span> │\n",
              "├─────────────────────────────────┼───────────────────────────┼────────────┤\n",
              "│ dense (<span style=\"color: #0087ff; text-decoration-color: #0087ff\">Dense</span>)                   │ (<span style=\"color: #00d7ff; text-decoration-color: #00d7ff\">None</span>, <span style=\"color: #00af00; text-decoration-color: #00af00\">64</span>)                │      <span style=\"color: #00af00; text-decoration-color: #00af00\">3,584</span> │\n",
              "├─────────────────────────────────┼───────────────────────────┼────────────┤\n",
              "│ dense_1 (<span style=\"color: #0087ff; text-decoration-color: #0087ff\">Dense</span>)                 │ (<span style=\"color: #00d7ff; text-decoration-color: #00d7ff\">None</span>, <span style=\"color: #00af00; text-decoration-color: #00af00\">64</span>)                │      <span style=\"color: #00af00; text-decoration-color: #00af00\">4,160</span> │\n",
              "├─────────────────────────────────┼───────────────────────────┼────────────┤\n",
              "│ dense_2 (<span style=\"color: #0087ff; text-decoration-color: #0087ff\">Dense</span>)                 │ (<span style=\"color: #00d7ff; text-decoration-color: #00d7ff\">None</span>, <span style=\"color: #00af00; text-decoration-color: #00af00\">64</span>)                │      <span style=\"color: #00af00; text-decoration-color: #00af00\">4,160</span> │\n",
              "├─────────────────────────────────┼───────────────────────────┼────────────┤\n",
              "│ dense_3 (<span style=\"color: #0087ff; text-decoration-color: #0087ff\">Dense</span>)                 │ (<span style=\"color: #00d7ff; text-decoration-color: #00d7ff\">None</span>, <span style=\"color: #00af00; text-decoration-color: #00af00\">1</span>)                 │         <span style=\"color: #00af00; text-decoration-color: #00af00\">65</span> │\n",
              "└─────────────────────────────────┴───────────────────────────┴────────────┘\n",
              "</pre>\n"
            ]
          },
          "metadata": {}
        },
        {
          "output_type": "display_data",
          "data": {
            "text/plain": [
              "\u001b[1m Total params: \u001b[0m\u001b[38;5;34m11,969\u001b[0m (46.75 KB)\n"
            ],
            "text/html": [
              "<pre style=\"white-space:pre;overflow-x:auto;line-height:normal;font-family:Menlo,'DejaVu Sans Mono',consolas,'Courier New',monospace\"><span style=\"font-weight: bold\"> Total params: </span><span style=\"color: #00af00; text-decoration-color: #00af00\">11,969</span> (46.75 KB)\n",
              "</pre>\n"
            ]
          },
          "metadata": {}
        },
        {
          "output_type": "display_data",
          "data": {
            "text/plain": [
              "\u001b[1m Trainable params: \u001b[0m\u001b[38;5;34m11,969\u001b[0m (46.75 KB)\n"
            ],
            "text/html": [
              "<pre style=\"white-space:pre;overflow-x:auto;line-height:normal;font-family:Menlo,'DejaVu Sans Mono',consolas,'Courier New',monospace\"><span style=\"font-weight: bold\"> Trainable params: </span><span style=\"color: #00af00; text-decoration-color: #00af00\">11,969</span> (46.75 KB)\n",
              "</pre>\n"
            ]
          },
          "metadata": {}
        },
        {
          "output_type": "display_data",
          "data": {
            "text/plain": [
              "\u001b[1m Non-trainable params: \u001b[0m\u001b[38;5;34m0\u001b[0m (0.00 B)\n"
            ],
            "text/html": [
              "<pre style=\"white-space:pre;overflow-x:auto;line-height:normal;font-family:Menlo,'DejaVu Sans Mono',consolas,'Courier New',monospace\"><span style=\"font-weight: bold\"> Non-trainable params: </span><span style=\"color: #00af00; text-decoration-color: #00af00\">0</span> (0.00 B)\n",
              "</pre>\n"
            ]
          },
          "metadata": {}
        }
      ]
    },
    {
      "cell_type": "code",
      "source": [
        "# Train the model\n",
        "history_test = model_test.fit(\n",
        "  X_train, y_train,\n",
        "  validation_data=(X_holdout, y_holdout),\n",
        "  batch_size=32,\n",
        "  epochs=50,\n",
        "  verbose=1,\n",
        ")\n",
        "\n",
        "# Plot the history over the epochs\n",
        "plt.figure(figsize=(10, 6))\n",
        "plt.plot(history_test.history['loss'], label='Training Loss')\n",
        "plt.plot(history_test.history['val_loss'], label='Validation Loss')\n",
        "plt.xlabel('Epoch')\n",
        "plt.ylabel('Loss')\n",
        "plt.title('Training and Validation Loss Over Epochs')\n",
        "plt.legend()\n",
        "plt.show()\n"
      ],
      "metadata": {
        "colab": {
          "base_uri": "https://localhost:8080/",
          "height": 1000
        },
        "id": "qB4xdNad9l7r",
        "outputId": "96f4781a-1299-4b06-d8ab-f7dc842b4465"
      },
      "execution_count": 12,
      "outputs": [
        {
          "output_type": "stream",
          "name": "stdout",
          "text": [
            "Epoch 1/50\n",
            "\u001b[1m129/129\u001b[0m \u001b[32m━━━━━━━━━━━━━━━━━━━━\u001b[0m\u001b[37m\u001b[0m \u001b[1m5s\u001b[0m 30ms/step - loss: 138.0460 - val_loss: 9.4726\n",
            "Epoch 2/50\n",
            "\u001b[1m129/129\u001b[0m \u001b[32m━━━━━━━━━━━━━━━━━━━━\u001b[0m\u001b[37m\u001b[0m \u001b[1m1s\u001b[0m 2ms/step - loss: 7.3618 - val_loss: 6.4321\n",
            "Epoch 3/50\n",
            "\u001b[1m129/129\u001b[0m \u001b[32m━━━━━━━━━━━━━━━━━━━━\u001b[0m\u001b[37m\u001b[0m \u001b[1m0s\u001b[0m 2ms/step - loss: 4.9727 - val_loss: 5.3132\n",
            "Epoch 4/50\n",
            "\u001b[1m129/129\u001b[0m \u001b[32m━━━━━━━━━━━━━━━━━━━━\u001b[0m\u001b[37m\u001b[0m \u001b[1m0s\u001b[0m 2ms/step - loss: 4.2841 - val_loss: 4.8824\n",
            "Epoch 5/50\n",
            "\u001b[1m129/129\u001b[0m \u001b[32m━━━━━━━━━━━━━━━━━━━━\u001b[0m\u001b[37m\u001b[0m \u001b[1m0s\u001b[0m 1ms/step - loss: 3.7719 - val_loss: 4.3851\n",
            "Epoch 6/50\n",
            "\u001b[1m129/129\u001b[0m \u001b[32m━━━━━━━━━━━━━━━━━━━━\u001b[0m\u001b[37m\u001b[0m \u001b[1m0s\u001b[0m 1ms/step - loss: 3.3427 - val_loss: 4.7843\n",
            "Epoch 7/50\n",
            "\u001b[1m129/129\u001b[0m \u001b[32m━━━━━━━━━━━━━━━━━━━━\u001b[0m\u001b[37m\u001b[0m \u001b[1m0s\u001b[0m 1ms/step - loss: 3.3239 - val_loss: 4.1060\n",
            "Epoch 8/50\n",
            "\u001b[1m129/129\u001b[0m \u001b[32m━━━━━━━━━━━━━━━━━━━━\u001b[0m\u001b[37m\u001b[0m \u001b[1m0s\u001b[0m 1ms/step - loss: 3.1109 - val_loss: 4.2512\n",
            "Epoch 9/50\n",
            "\u001b[1m129/129\u001b[0m \u001b[32m━━━━━━━━━━━━━━━━━━━━\u001b[0m\u001b[37m\u001b[0m \u001b[1m0s\u001b[0m 1ms/step - loss: 3.1028 - val_loss: 3.9940\n",
            "Epoch 10/50\n",
            "\u001b[1m129/129\u001b[0m \u001b[32m━━━━━━━━━━━━━━━━━━━━\u001b[0m\u001b[37m\u001b[0m \u001b[1m0s\u001b[0m 2ms/step - loss: 3.0185 - val_loss: 4.1101\n",
            "Epoch 11/50\n",
            "\u001b[1m129/129\u001b[0m \u001b[32m━━━━━━━━━━━━━━━━━━━━\u001b[0m\u001b[37m\u001b[0m \u001b[1m0s\u001b[0m 1ms/step - loss: 2.8475 - val_loss: 3.9176\n",
            "Epoch 12/50\n",
            "\u001b[1m129/129\u001b[0m \u001b[32m━━━━━━━━━━━━━━━━━━━━\u001b[0m\u001b[37m\u001b[0m \u001b[1m0s\u001b[0m 1ms/step - loss: 2.8464 - val_loss: 3.9519\n",
            "Epoch 13/50\n",
            "\u001b[1m129/129\u001b[0m \u001b[32m━━━━━━━━━━━━━━━━━━━━\u001b[0m\u001b[37m\u001b[0m \u001b[1m0s\u001b[0m 1ms/step - loss: 2.6832 - val_loss: 4.1692\n",
            "Epoch 14/50\n",
            "\u001b[1m129/129\u001b[0m \u001b[32m━━━━━━━━━━━━━━━━━━━━\u001b[0m\u001b[37m\u001b[0m \u001b[1m0s\u001b[0m 3ms/step - loss: 2.8035 - val_loss: 3.8819\n",
            "Epoch 15/50\n",
            "\u001b[1m129/129\u001b[0m \u001b[32m━━━━━━━━━━━━━━━━━━━━\u001b[0m\u001b[37m\u001b[0m \u001b[1m0s\u001b[0m 2ms/step - loss: 2.8081 - val_loss: 4.0717\n",
            "Epoch 16/50\n",
            "\u001b[1m129/129\u001b[0m \u001b[32m━━━━━━━━━━━━━━━━━━━━\u001b[0m\u001b[37m\u001b[0m \u001b[1m0s\u001b[0m 2ms/step - loss: 2.7779 - val_loss: 4.2045\n",
            "Epoch 17/50\n",
            "\u001b[1m129/129\u001b[0m \u001b[32m━━━━━━━━━━━━━━━━━━━━\u001b[0m\u001b[37m\u001b[0m \u001b[1m0s\u001b[0m 2ms/step - loss: 2.8552 - val_loss: 3.9355\n",
            "Epoch 18/50\n",
            "\u001b[1m129/129\u001b[0m \u001b[32m━━━━━━━━━━━━━━━━━━━━\u001b[0m\u001b[37m\u001b[0m \u001b[1m0s\u001b[0m 2ms/step - loss: 2.6003 - val_loss: 3.9145\n",
            "Epoch 19/50\n",
            "\u001b[1m129/129\u001b[0m \u001b[32m━━━━━━━━━━━━━━━━━━━━\u001b[0m\u001b[37m\u001b[0m \u001b[1m0s\u001b[0m 3ms/step - loss: 2.4199 - val_loss: 4.1123\n",
            "Epoch 20/50\n",
            "\u001b[1m129/129\u001b[0m \u001b[32m━━━━━━━━━━━━━━━━━━━━\u001b[0m\u001b[37m\u001b[0m \u001b[1m0s\u001b[0m 3ms/step - loss: 2.3428 - val_loss: 4.0733\n",
            "Epoch 21/50\n",
            "\u001b[1m129/129\u001b[0m \u001b[32m━━━━━━━━━━━━━━━━━━━━\u001b[0m\u001b[37m\u001b[0m \u001b[1m0s\u001b[0m 3ms/step - loss: 2.4927 - val_loss: 3.8318\n",
            "Epoch 22/50\n",
            "\u001b[1m129/129\u001b[0m \u001b[32m━━━━━━━━━━━━━━━━━━━━\u001b[0m\u001b[37m\u001b[0m \u001b[1m0s\u001b[0m 4ms/step - loss: 2.3843 - val_loss: 3.9957\n",
            "Epoch 23/50\n",
            "\u001b[1m129/129\u001b[0m \u001b[32m━━━━━━━━━━━━━━━━━━━━\u001b[0m\u001b[37m\u001b[0m \u001b[1m0s\u001b[0m 3ms/step - loss: 2.5401 - val_loss: 3.9732\n",
            "Epoch 24/50\n",
            "\u001b[1m129/129\u001b[0m \u001b[32m━━━━━━━━━━━━━━━━━━━━\u001b[0m\u001b[37m\u001b[0m \u001b[1m0s\u001b[0m 2ms/step - loss: 2.3719 - val_loss: 4.0754\n",
            "Epoch 25/50\n",
            "\u001b[1m129/129\u001b[0m \u001b[32m━━━━━━━━━━━━━━━━━━━━\u001b[0m\u001b[37m\u001b[0m \u001b[1m0s\u001b[0m 1ms/step - loss: 2.1557 - val_loss: 4.0200\n",
            "Epoch 26/50\n",
            "\u001b[1m129/129\u001b[0m \u001b[32m━━━━━━━━━━━━━━━━━━━━\u001b[0m\u001b[37m\u001b[0m \u001b[1m0s\u001b[0m 2ms/step - loss: 2.1722 - val_loss: 4.0137\n",
            "Epoch 27/50\n",
            "\u001b[1m129/129\u001b[0m \u001b[32m━━━━━━━━━━━━━━━━━━━━\u001b[0m\u001b[37m\u001b[0m \u001b[1m0s\u001b[0m 3ms/step - loss: 2.3469 - val_loss: 4.0846\n",
            "Epoch 28/50\n",
            "\u001b[1m129/129\u001b[0m \u001b[32m━━━━━━━━━━━━━━━━━━━━\u001b[0m\u001b[37m\u001b[0m \u001b[1m0s\u001b[0m 2ms/step - loss: 2.2056 - val_loss: 3.9950\n",
            "Epoch 29/50\n",
            "\u001b[1m129/129\u001b[0m \u001b[32m━━━━━━━━━━━━━━━━━━━━\u001b[0m\u001b[37m\u001b[0m \u001b[1m0s\u001b[0m 2ms/step - loss: 2.0819 - val_loss: 4.2117\n",
            "Epoch 30/50\n",
            "\u001b[1m129/129\u001b[0m \u001b[32m━━━━━━━━━━━━━━━━━━━━\u001b[0m\u001b[37m\u001b[0m \u001b[1m0s\u001b[0m 2ms/step - loss: 2.1190 - val_loss: 4.3865\n",
            "Epoch 31/50\n",
            "\u001b[1m129/129\u001b[0m \u001b[32m━━━━━━━━━━━━━━━━━━━━\u001b[0m\u001b[37m\u001b[0m \u001b[1m0s\u001b[0m 2ms/step - loss: 2.2264 - val_loss: 4.0768\n",
            "Epoch 32/50\n",
            "\u001b[1m129/129\u001b[0m \u001b[32m━━━━━━━━━━━━━━━━━━━━\u001b[0m\u001b[37m\u001b[0m \u001b[1m0s\u001b[0m 1ms/step - loss: 2.0536 - val_loss: 4.1610\n",
            "Epoch 33/50\n",
            "\u001b[1m129/129\u001b[0m \u001b[32m━━━━━━━━━━━━━━━━━━━━\u001b[0m\u001b[37m\u001b[0m \u001b[1m0s\u001b[0m 1ms/step - loss: 2.1842 - val_loss: 4.2651\n",
            "Epoch 34/50\n",
            "\u001b[1m129/129\u001b[0m \u001b[32m━━━━━━━━━━━━━━━━━━━━\u001b[0m\u001b[37m\u001b[0m \u001b[1m0s\u001b[0m 1ms/step - loss: 2.0487 - val_loss: 4.4742\n",
            "Epoch 35/50\n",
            "\u001b[1m129/129\u001b[0m \u001b[32m━━━━━━━━━━━━━━━━━━━━\u001b[0m\u001b[37m\u001b[0m \u001b[1m0s\u001b[0m 2ms/step - loss: 2.2221 - val_loss: 4.3286\n",
            "Epoch 36/50\n",
            "\u001b[1m129/129\u001b[0m \u001b[32m━━━━━━━━━━━━━━━━━━━━\u001b[0m\u001b[37m\u001b[0m \u001b[1m0s\u001b[0m 1ms/step - loss: 2.2589 - val_loss: 4.3185\n",
            "Epoch 37/50\n",
            "\u001b[1m129/129\u001b[0m \u001b[32m━━━━━━━━━━━━━━━━━━━━\u001b[0m\u001b[37m\u001b[0m \u001b[1m0s\u001b[0m 2ms/step - loss: 2.1630 - val_loss: 4.2960\n",
            "Epoch 38/50\n",
            "\u001b[1m129/129\u001b[0m \u001b[32m━━━━━━━━━━━━━━━━━━━━\u001b[0m\u001b[37m\u001b[0m \u001b[1m0s\u001b[0m 3ms/step - loss: 2.0588 - val_loss: 4.1676\n",
            "Epoch 39/50\n",
            "\u001b[1m129/129\u001b[0m \u001b[32m━━━━━━━━━━━━━━━━━━━━\u001b[0m\u001b[37m\u001b[0m \u001b[1m0s\u001b[0m 3ms/step - loss: 2.0001 - val_loss: 4.1445\n",
            "Epoch 40/50\n",
            "\u001b[1m129/129\u001b[0m \u001b[32m━━━━━━━━━━━━━━━━━━━━\u001b[0m\u001b[37m\u001b[0m \u001b[1m0s\u001b[0m 2ms/step - loss: 1.9690 - val_loss: 4.2413\n",
            "Epoch 41/50\n",
            "\u001b[1m129/129\u001b[0m \u001b[32m━━━━━━━━━━━━━━━━━━━━\u001b[0m\u001b[37m\u001b[0m \u001b[1m0s\u001b[0m 4ms/step - loss: 2.1754 - val_loss: 4.2374\n",
            "Epoch 42/50\n",
            "\u001b[1m129/129\u001b[0m \u001b[32m━━━━━━━━━━━━━━━━━━━━\u001b[0m\u001b[37m\u001b[0m \u001b[1m0s\u001b[0m 4ms/step - loss: 2.1538 - val_loss: 4.5908\n",
            "Epoch 43/50\n",
            "\u001b[1m129/129\u001b[0m \u001b[32m━━━━━━━━━━━━━━━━━━━━\u001b[0m\u001b[37m\u001b[0m \u001b[1m0s\u001b[0m 3ms/step - loss: 2.3024 - val_loss: 4.2469\n",
            "Epoch 44/50\n",
            "\u001b[1m129/129\u001b[0m \u001b[32m━━━━━━━━━━━━━━━━━━━━\u001b[0m\u001b[37m\u001b[0m \u001b[1m0s\u001b[0m 2ms/step - loss: 1.8388 - val_loss: 4.3033\n",
            "Epoch 45/50\n",
            "\u001b[1m129/129\u001b[0m \u001b[32m━━━━━━━━━━━━━━━━━━━━\u001b[0m\u001b[37m\u001b[0m \u001b[1m0s\u001b[0m 1ms/step - loss: 2.0164 - val_loss: 4.2899\n",
            "Epoch 46/50\n",
            "\u001b[1m129/129\u001b[0m \u001b[32m━━━━━━━━━━━━━━━━━━━━\u001b[0m\u001b[37m\u001b[0m \u001b[1m0s\u001b[0m 3ms/step - loss: 1.8985 - val_loss: 4.6251\n",
            "Epoch 47/50\n",
            "\u001b[1m129/129\u001b[0m \u001b[32m━━━━━━━━━━━━━━━━━━━━\u001b[0m\u001b[37m\u001b[0m \u001b[1m0s\u001b[0m 1ms/step - loss: 2.0343 - val_loss: 4.2018\n",
            "Epoch 48/50\n",
            "\u001b[1m129/129\u001b[0m \u001b[32m━━━━━━━━━━━━━━━━━━━━\u001b[0m\u001b[37m\u001b[0m \u001b[1m0s\u001b[0m 1ms/step - loss: 1.9958 - val_loss: 4.4691\n",
            "Epoch 49/50\n",
            "\u001b[1m129/129\u001b[0m \u001b[32m━━━━━━━━━━━━━━━━━━━━\u001b[0m\u001b[37m\u001b[0m \u001b[1m0s\u001b[0m 1ms/step - loss: 1.9983 - val_loss: 4.2401\n",
            "Epoch 50/50\n",
            "\u001b[1m129/129\u001b[0m \u001b[32m━━━━━━━━━━━━━━━━━━━━\u001b[0m\u001b[37m\u001b[0m \u001b[1m0s\u001b[0m 2ms/step - loss: 1.9225 - val_loss: 4.4330\n"
          ]
        },
        {
          "output_type": "display_data",
          "data": {
            "text/plain": [
              "<Figure size 1000x600 with 1 Axes>"
            ],
            "image/png": "[encoded data removed]"
          },
          "metadata": {}
        }
      ]
    },
    {
      "cell_type": "code",
      "source": [
        "# Hyperparameter Sweep\n",
        "# --- Hyperparameter grid ---\n",
        "param_grid = {\n",
        "    \"depth\":         [2, 4, 8],\n",
        "    \"width\":         [64, 128],\n",
        "    \"batch_size\":    [32, 64],\n",
        "    \"epochs\":        [50, 100],\n",
        "    \"learning_rate\": [1e-2, 1e-3],\n",
        "    \"activation\":    [\"relu\", \"sigmoid\"],\n",
        "}\n",
        "\n",
        "# Generate all combinations\n",
        "keys, values = zip(*param_grid.items())\n",
        "combinations = [dict(zip(keys, v)) for v in itertools.product(*values)]\n",
        "\n",
        "# Storage for results\n",
        "results = []\n",
        "\n",
        "# Early stopping callback to speed up training\n",
        "# early_stop = EarlyStopping(\n",
        "#     monitor=\"val_loss\",\n",
        "#     patience=5,\n",
        "#     restore_best_weights=True,\n",
        "#     verbose=0\n",
        "# )\n",
        "\n",
        "best_model = None\n",
        "best_val_loss = float(\"inf\")\n",
        "\n",
        "# Sweep\n",
        "for params in combinations:\n",
        "    print(\"Training with:\", params)\n",
        "    # Build a fresh model\n",
        "    model = create_nn(\n",
        "        input_shape = X_train.shape[1:],\n",
        "        width          = params[\"width\"],\n",
        "        depth          = params[\"depth\"],\n",
        "        activation     = params[\"activation\"],\n",
        "        learning_rate  = params[\"learning_rate\"],\n",
        "        # optimizer_name = params[\"optimizer_name\"],\n",
        "        # loss_name      = params[\"loss_name\"],\n",
        "    )\n",
        "\n",
        "    # Train\n",
        "    history = model.fit(\n",
        "        X_train, y_train,\n",
        "        validation_data=(X_holdout, y_holdout),\n",
        "        batch_size   = params[\"batch_size\"],\n",
        "        epochs       = params[\"epochs\"],\n",
        "        # callbacks    = [early_stop],\n",
        "        verbose      = 0,  # set to 1 if you want per‑epoch logs\n",
        "    )\n",
        "\n",
        "    # Record final validation loss & mse\n",
        "    final_val_loss = history.history[\"val_loss\"][-1]\n",
        "    # final_val_mse  = history.history[\"val_mse\"][-1]\n",
        "\n",
        "    print(f\"Final validation loss: {final_val_loss:.4f}\")\n",
        "    # print(f\"Final validation mse: {final_val_mse:.4f}\")\n",
        "\n",
        "    if final_val_loss < best_val_loss:\n",
        "        best_val_loss = final_val_loss\n",
        "        best_model = model\n",
        "\n",
        "    results.append({\n",
        "        **params,\n",
        "        \"final_val_loss\": final_val_loss,\n",
        "        # \"final_val_mse\":  final_val_mse,\n",
        "        # \"epochs_trained\": len(history.history[\"loss\"])\n",
        "    })\n",
        "\n",
        "# Summarize in a DataFrame\n",
        "results1_df = pl.DataFrame(results).sort(\"final_val_loss\")\n",
        "print(results1_df)"
      ],
      "metadata": {
        "colab": {
          "base_uri": "https://localhost:8080/"
        },
        "id": "MQ-VXI5t4Y7C",
        "outputId": "f38802f0-98fe-45b9-9b26-0bc13167e814"
      },
      "execution_count": 13,
      "outputs": [
        {
          "output_type": "stream",
          "name": "stdout",
          "text": [
            "Training with: {'depth': 2, 'width': 64, 'batch_size': 32, 'epochs': 50, 'learning_rate': 0.01, 'activation': 'relu'}\n",
            "Final validation loss: 3.5167\n",
            "Training with: {'depth': 2, 'width': 64, 'batch_size': 32, 'epochs': 50, 'learning_rate': 0.01, 'activation': 'sigmoid'}\n",
            "Final validation loss: 3.2636\n",
            "Training with: {'depth': 2, 'width': 64, 'batch_size': 32, 'epochs': 50, 'learning_rate': 0.001, 'activation': 'relu'}\n",
            "Final validation loss: 4.2204\n",
            "Training with: {'depth': 2, 'width': 64, 'batch_size': 32, 'epochs': 50, 'learning_rate': 0.001, 'activation': 'sigmoid'}\n",
            "Final validation loss: 3.6359\n",
            "Training with: {'depth': 2, 'width': 64, 'batch_size': 32, 'epochs': 100, 'learning_rate': 0.01, 'activation': 'relu'}\n",
            "Final validation loss: 3.3720\n",
            "Training with: {'depth': 2, 'width': 64, 'batch_size': 32, 'epochs': 100, 'learning_rate': 0.01, 'activation': 'sigmoid'}\n",
            "Final validation loss: 3.2881\n",
            "Training with: {'depth': 2, 'width': 64, 'batch_size': 32, 'epochs': 100, 'learning_rate': 0.001, 'activation': 'relu'}\n",
            "Final validation loss: 4.4252\n",
            "Training with: {'depth': 2, 'width': 64, 'batch_size': 32, 'epochs': 100, 'learning_rate': 0.001, 'activation': 'sigmoid'}\n",
            "Final validation loss: 4.0122\n",
            "Training with: {'depth': 2, 'width': 64, 'batch_size': 64, 'epochs': 50, 'learning_rate': 0.01, 'activation': 'relu'}\n",
            "Final validation loss: 3.4224\n",
            "Training with: {'depth': 2, 'width': 64, 'batch_size': 64, 'epochs': 50, 'learning_rate': 0.01, 'activation': 'sigmoid'}\n",
            "Final validation loss: 3.2685\n",
            "Training with: {'depth': 2, 'width': 64, 'batch_size': 64, 'epochs': 50, 'learning_rate': 0.001, 'activation': 'relu'}\n",
            "Final validation loss: 4.8099\n",
            "Training with: {'depth': 2, 'width': 64, 'batch_size': 64, 'epochs': 50, 'learning_rate': 0.001, 'activation': 'sigmoid'}\n",
            "Final validation loss: 3.7711\n",
            "Training with: {'depth': 2, 'width': 64, 'batch_size': 64, 'epochs': 100, 'learning_rate': 0.01, 'activation': 'relu'}\n",
            "Final validation loss: 3.5359\n",
            "Training with: {'depth': 2, 'width': 64, 'batch_size': 64, 'epochs': 100, 'learning_rate': 0.01, 'activation': 'sigmoid'}\n",
            "Final validation loss: 3.2761\n",
            "Training with: {'depth': 2, 'width': 64, 'batch_size': 64, 'epochs': 100, 'learning_rate': 0.001, 'activation': 'relu'}\n",
            "Final validation loss: 4.9339\n",
            "Training with: {'depth': 2, 'width': 64, 'batch_size': 64, 'epochs': 100, 'learning_rate': 0.001, 'activation': 'sigmoid'}\n",
            "Final validation loss: 4.2177\n",
            "Training with: {'depth': 2, 'width': 128, 'batch_size': 32, 'epochs': 50, 'learning_rate': 0.01, 'activation': 'relu'}\n",
            "Final validation loss: 3.5117\n",
            "Training with: {'depth': 2, 'width': 128, 'batch_size': 32, 'epochs': 50, 'learning_rate': 0.01, 'activation': 'sigmoid'}\n",
            "Final validation loss: 3.2645\n",
            "Training with: {'depth': 2, 'width': 128, 'batch_size': 32, 'epochs': 50, 'learning_rate': 0.001, 'activation': 'relu'}\n",
            "Final validation loss: 4.1856\n",
            "Training with: {'depth': 2, 'width': 128, 'batch_size': 32, 'epochs': 50, 'learning_rate': 0.001, 'activation': 'sigmoid'}\n",
            "Final validation loss: 3.8829\n",
            "Training with: {'depth': 2, 'width': 128, 'batch_size': 32, 'epochs': 100, 'learning_rate': 0.01, 'activation': 'relu'}\n",
            "Final validation loss: 3.2805\n",
            "Training with: {'depth': 2, 'width': 128, 'batch_size': 32, 'epochs': 100, 'learning_rate': 0.01, 'activation': 'sigmoid'}\n",
            "Final validation loss: 3.2680\n",
            "Training with: {'depth': 2, 'width': 128, 'batch_size': 32, 'epochs': 100, 'learning_rate': 0.001, 'activation': 'relu'}\n",
            "Final validation loss: 4.5002\n",
            "Training with: {'depth': 2, 'width': 128, 'batch_size': 32, 'epochs': 100, 'learning_rate': 0.001, 'activation': 'sigmoid'}\n",
            "Final validation loss: 4.2269\n",
            "Training with: {'depth': 2, 'width': 128, 'batch_size': 64, 'epochs': 50, 'learning_rate': 0.01, 'activation': 'relu'}\n",
            "Final validation loss: 3.4388\n",
            "Training with: {'depth': 2, 'width': 128, 'batch_size': 64, 'epochs': 50, 'learning_rate': 0.01, 'activation': 'sigmoid'}\n",
            "Final validation loss: 3.2682\n",
            "Training with: {'depth': 2, 'width': 128, 'batch_size': 64, 'epochs': 50, 'learning_rate': 0.001, 'activation': 'relu'}\n",
            "Final validation loss: 5.8074\n",
            "Training with: {'depth': 2, 'width': 128, 'batch_size': 64, 'epochs': 50, 'learning_rate': 0.001, 'activation': 'sigmoid'}\n",
            "Final validation loss: 3.9619\n",
            "Training with: {'depth': 2, 'width': 128, 'batch_size': 64, 'epochs': 100, 'learning_rate': 0.01, 'activation': 'relu'}\n",
            "Final validation loss: 3.3782\n",
            "Training with: {'depth': 2, 'width': 128, 'batch_size': 64, 'epochs': 100, 'learning_rate': 0.01, 'activation': 'sigmoid'}\n",
            "Final validation loss: 3.2742\n",
            "Training with: {'depth': 2, 'width': 128, 'batch_size': 64, 'epochs': 100, 'learning_rate': 0.001, 'activation': 'relu'}\n",
            "Final validation loss: 4.6836\n",
            "Training with: {'depth': 2, 'width': 128, 'batch_size': 64, 'epochs': 100, 'learning_rate': 0.001, 'activation': 'sigmoid'}\n",
            "Final validation loss: 4.3691\n",
            "Training with: {'depth': 4, 'width': 64, 'batch_size': 32, 'epochs': 50, 'learning_rate': 0.01, 'activation': 'relu'}\n",
            "Final validation loss: 3.2677\n",
            "Training with: {'depth': 4, 'width': 64, 'batch_size': 32, 'epochs': 50, 'learning_rate': 0.01, 'activation': 'sigmoid'}\n",
            "Final validation loss: 3.2509\n",
            "Training with: {'depth': 4, 'width': 64, 'batch_size': 32, 'epochs': 50, 'learning_rate': 0.001, 'activation': 'relu'}\n",
            "Final validation loss: 4.1175\n",
            "Training with: {'depth': 4, 'width': 64, 'batch_size': 32, 'epochs': 50, 'learning_rate': 0.001, 'activation': 'sigmoid'}\n",
            "Final validation loss: 3.6557\n",
            "Training with: {'depth': 4, 'width': 64, 'batch_size': 32, 'epochs': 100, 'learning_rate': 0.01, 'activation': 'relu'}\n",
            "Final validation loss: 3.2940\n",
            "Training with: {'depth': 4, 'width': 64, 'batch_size': 32, 'epochs': 100, 'learning_rate': 0.01, 'activation': 'sigmoid'}\n",
            "Final validation loss: 3.2549\n",
            "Training with: {'depth': 4, 'width': 64, 'batch_size': 32, 'epochs': 100, 'learning_rate': 0.001, 'activation': 'relu'}\n",
            "Final validation loss: 4.6016\n",
            "Training with: {'depth': 4, 'width': 64, 'batch_size': 32, 'epochs': 100, 'learning_rate': 0.001, 'activation': 'sigmoid'}\n",
            "Final validation loss: 3.9570\n",
            "Training with: {'depth': 4, 'width': 64, 'batch_size': 64, 'epochs': 50, 'learning_rate': 0.01, 'activation': 'relu'}\n",
            "Final validation loss: 3.2574\n",
            "Training with: {'depth': 4, 'width': 64, 'batch_size': 64, 'epochs': 50, 'learning_rate': 0.01, 'activation': 'sigmoid'}\n",
            "Final validation loss: 3.2772\n",
            "Training with: {'depth': 4, 'width': 64, 'batch_size': 64, 'epochs': 50, 'learning_rate': 0.001, 'activation': 'relu'}\n",
            "Final validation loss: 4.0431\n",
            "Training with: {'depth': 4, 'width': 64, 'batch_size': 64, 'epochs': 50, 'learning_rate': 0.001, 'activation': 'sigmoid'}\n",
            "Final validation loss: 3.4518\n",
            "Training with: {'depth': 4, 'width': 64, 'batch_size': 64, 'epochs': 100, 'learning_rate': 0.01, 'activation': 'relu'}\n",
            "Final validation loss: 3.4617\n",
            "Training with: {'depth': 4, 'width': 64, 'batch_size': 64, 'epochs': 100, 'learning_rate': 0.01, 'activation': 'sigmoid'}\n",
            "Final validation loss: 3.2723\n",
            "Training with: {'depth': 4, 'width': 64, 'batch_size': 64, 'epochs': 100, 'learning_rate': 0.001, 'activation': 'relu'}\n",
            "Final validation loss: 4.9367\n",
            "Training with: {'depth': 4, 'width': 64, 'batch_size': 64, 'epochs': 100, 'learning_rate': 0.001, 'activation': 'sigmoid'}\n",
            "Final validation loss: 4.0216\n",
            "Training with: {'depth': 4, 'width': 128, 'batch_size': 32, 'epochs': 50, 'learning_rate': 0.01, 'activation': 'relu'}\n",
            "Final validation loss: 3.2312\n",
            "Training with: {'depth': 4, 'width': 128, 'batch_size': 32, 'epochs': 50, 'learning_rate': 0.01, 'activation': 'sigmoid'}\n",
            "Final validation loss: 3.2567\n",
            "Training with: {'depth': 4, 'width': 128, 'batch_size': 32, 'epochs': 50, 'learning_rate': 0.001, 'activation': 'relu'}\n",
            "Final validation loss: 4.2017\n",
            "Training with: {'depth': 4, 'width': 128, 'batch_size': 32, 'epochs': 50, 'learning_rate': 0.001, 'activation': 'sigmoid'}\n",
            "Final validation loss: 3.7572\n",
            "Training with: {'depth': 4, 'width': 128, 'batch_size': 32, 'epochs': 100, 'learning_rate': 0.01, 'activation': 'relu'}\n",
            "Final validation loss: 3.3093\n",
            "Training with: {'depth': 4, 'width': 128, 'batch_size': 32, 'epochs': 100, 'learning_rate': 0.01, 'activation': 'sigmoid'}\n",
            "Final validation loss: 3.2732\n",
            "Training with: {'depth': 4, 'width': 128, 'batch_size': 32, 'epochs': 100, 'learning_rate': 0.001, 'activation': 'relu'}\n",
            "Final validation loss: 4.3357\n",
            "Training with: {'depth': 4, 'width': 128, 'batch_size': 32, 'epochs': 100, 'learning_rate': 0.001, 'activation': 'sigmoid'}\n",
            "Final validation loss: 4.0627\n",
            "Training with: {'depth': 4, 'width': 128, 'batch_size': 64, 'epochs': 50, 'learning_rate': 0.01, 'activation': 'relu'}\n",
            "Final validation loss: 3.2791\n",
            "Training with: {'depth': 4, 'width': 128, 'batch_size': 64, 'epochs': 50, 'learning_rate': 0.01, 'activation': 'sigmoid'}\n",
            "Final validation loss: 3.2799\n",
            "Training with: {'depth': 4, 'width': 128, 'batch_size': 64, 'epochs': 50, 'learning_rate': 0.001, 'activation': 'relu'}\n",
            "Final validation loss: 4.2583\n",
            "Training with: {'depth': 4, 'width': 128, 'batch_size': 64, 'epochs': 50, 'learning_rate': 0.001, 'activation': 'sigmoid'}\n",
            "Final validation loss: 3.8412\n",
            "Training with: {'depth': 4, 'width': 128, 'batch_size': 64, 'epochs': 100, 'learning_rate': 0.01, 'activation': 'relu'}\n",
            "Final validation loss: 3.3076\n",
            "Training with: {'depth': 4, 'width': 128, 'batch_size': 64, 'epochs': 100, 'learning_rate': 0.01, 'activation': 'sigmoid'}\n",
            "Final validation loss: 3.2769\n",
            "Training with: {'depth': 4, 'width': 128, 'batch_size': 64, 'epochs': 100, 'learning_rate': 0.001, 'activation': 'relu'}\n",
            "Final validation loss: 4.4663\n",
            "Training with: {'depth': 4, 'width': 128, 'batch_size': 64, 'epochs': 100, 'learning_rate': 0.001, 'activation': 'sigmoid'}\n",
            "Final validation loss: 4.4558\n",
            "Training with: {'depth': 8, 'width': 64, 'batch_size': 32, 'epochs': 50, 'learning_rate': 0.01, 'activation': 'relu'}\n",
            "Final validation loss: 3.3047\n",
            "Training with: {'depth': 8, 'width': 64, 'batch_size': 32, 'epochs': 50, 'learning_rate': 0.01, 'activation': 'sigmoid'}\n",
            "Final validation loss: 3.3141\n",
            "Training with: {'depth': 8, 'width': 64, 'batch_size': 32, 'epochs': 50, 'learning_rate': 0.001, 'activation': 'relu'}\n",
            "Final validation loss: 4.0211\n",
            "Training with: {'depth': 8, 'width': 64, 'batch_size': 32, 'epochs': 50, 'learning_rate': 0.001, 'activation': 'sigmoid'}\n",
            "Final validation loss: 3.3423\n",
            "Training with: {'depth': 8, 'width': 64, 'batch_size': 32, 'epochs': 100, 'learning_rate': 0.01, 'activation': 'relu'}\n",
            "Final validation loss: 3.3095\n",
            "Training with: {'depth': 8, 'width': 64, 'batch_size': 32, 'epochs': 100, 'learning_rate': 0.01, 'activation': 'sigmoid'}\n",
            "Final validation loss: 3.3100\n",
            "Training with: {'depth': 8, 'width': 64, 'batch_size': 32, 'epochs': 100, 'learning_rate': 0.001, 'activation': 'relu'}\n",
            "Final validation loss: 4.5241\n",
            "Training with: {'depth': 8, 'width': 64, 'batch_size': 32, 'epochs': 100, 'learning_rate': 0.001, 'activation': 'sigmoid'}\n",
            "Final validation loss: 3.8026\n",
            "Training with: {'depth': 8, 'width': 64, 'batch_size': 64, 'epochs': 50, 'learning_rate': 0.01, 'activation': 'relu'}\n",
            "Final validation loss: 3.2324\n",
            "Training with: {'depth': 8, 'width': 64, 'batch_size': 64, 'epochs': 50, 'learning_rate': 0.01, 'activation': 'sigmoid'}\n",
            "Final validation loss: 3.3245\n",
            "Training with: {'depth': 8, 'width': 64, 'batch_size': 64, 'epochs': 50, 'learning_rate': 0.001, 'activation': 'relu'}\n",
            "Final validation loss: 4.1880\n",
            "Training with: {'depth': 8, 'width': 64, 'batch_size': 64, 'epochs': 50, 'learning_rate': 0.001, 'activation': 'sigmoid'}\n",
            "Final validation loss: 3.3408\n",
            "Training with: {'depth': 8, 'width': 64, 'batch_size': 64, 'epochs': 100, 'learning_rate': 0.01, 'activation': 'relu'}\n",
            "Final validation loss: 3.5260\n",
            "Training with: {'depth': 8, 'width': 64, 'batch_size': 64, 'epochs': 100, 'learning_rate': 0.01, 'activation': 'sigmoid'}\n",
            "Final validation loss: 3.3244\n",
            "Training with: {'depth': 8, 'width': 64, 'batch_size': 64, 'epochs': 100, 'learning_rate': 0.001, 'activation': 'relu'}\n",
            "Final validation loss: 4.6044\n",
            "Training with: {'depth': 8, 'width': 64, 'batch_size': 64, 'epochs': 100, 'learning_rate': 0.001, 'activation': 'sigmoid'}\n",
            "Final validation loss: 3.7061\n",
            "Training with: {'depth': 8, 'width': 128, 'batch_size': 32, 'epochs': 50, 'learning_rate': 0.01, 'activation': 'relu'}\n",
            "Final validation loss: 3.3096\n",
            "Training with: {'depth': 8, 'width': 128, 'batch_size': 32, 'epochs': 50, 'learning_rate': 0.01, 'activation': 'sigmoid'}\n",
            "Final validation loss: 3.3172\n",
            "Training with: {'depth': 8, 'width': 128, 'batch_size': 32, 'epochs': 50, 'learning_rate': 0.001, 'activation': 'relu'}\n",
            "Final validation loss: 4.3223\n",
            "Training with: {'depth': 8, 'width': 128, 'batch_size': 32, 'epochs': 50, 'learning_rate': 0.001, 'activation': 'sigmoid'}\n",
            "Final validation loss: 3.2721\n",
            "Training with: {'depth': 8, 'width': 128, 'batch_size': 32, 'epochs': 100, 'learning_rate': 0.01, 'activation': 'relu'}\n",
            "Final validation loss: 3.3106\n",
            "Training with: {'depth': 8, 'width': 128, 'batch_size': 32, 'epochs': 100, 'learning_rate': 0.01, 'activation': 'sigmoid'}\n",
            "Final validation loss: 3.3180\n",
            "Training with: {'depth': 8, 'width': 128, 'batch_size': 32, 'epochs': 100, 'learning_rate': 0.001, 'activation': 'relu'}\n",
            "Final validation loss: 4.4698\n",
            "Training with: {'depth': 8, 'width': 128, 'batch_size': 32, 'epochs': 100, 'learning_rate': 0.001, 'activation': 'sigmoid'}\n",
            "Final validation loss: 3.4439\n",
            "Training with: {'depth': 8, 'width': 128, 'batch_size': 64, 'epochs': 50, 'learning_rate': 0.01, 'activation': 'relu'}\n",
            "Final validation loss: 3.2695\n",
            "Training with: {'depth': 8, 'width': 128, 'batch_size': 64, 'epochs': 50, 'learning_rate': 0.01, 'activation': 'sigmoid'}\n",
            "Final validation loss: 3.3247\n",
            "Training with: {'depth': 8, 'width': 128, 'batch_size': 64, 'epochs': 50, 'learning_rate': 0.001, 'activation': 'relu'}\n",
            "Final validation loss: 4.4379\n",
            "Training with: {'depth': 8, 'width': 128, 'batch_size': 64, 'epochs': 50, 'learning_rate': 0.001, 'activation': 'sigmoid'}\n",
            "Final validation loss: 3.4015\n",
            "Training with: {'depth': 8, 'width': 128, 'batch_size': 64, 'epochs': 100, 'learning_rate': 0.01, 'activation': 'relu'}\n",
            "Final validation loss: 3.3213\n",
            "Training with: {'depth': 8, 'width': 128, 'batch_size': 64, 'epochs': 100, 'learning_rate': 0.01, 'activation': 'sigmoid'}\n",
            "Final validation loss: 3.3242\n",
            "Training with: {'depth': 8, 'width': 128, 'batch_size': 64, 'epochs': 100, 'learning_rate': 0.001, 'activation': 'relu'}\n",
            "Final validation loss: 4.3822\n",
            "Training with: {'depth': 8, 'width': 128, 'batch_size': 64, 'epochs': 100, 'learning_rate': 0.001, 'activation': 'sigmoid'}\n",
            "Final validation loss: 4.0876\n",
            "shape: (96, 7)\n",
            "┌───────┬───────┬────────────┬────────┬───────────────┬────────────┬────────────────┐\n",
            "│ depth ┆ width ┆ batch_size ┆ epochs ┆ learning_rate ┆ activation ┆ final_val_loss │\n",
            "│ ---   ┆ ---   ┆ ---        ┆ ---    ┆ ---           ┆ ---        ┆ ---            │\n",
            "│ i64   ┆ i64   ┆ i64        ┆ i64    ┆ f64           ┆ str        ┆ f64            │\n",
            "╞═══════╪═══════╪════════════╪════════╪═══════════════╪════════════╪════════════════╡\n",
            "│ 4     ┆ 128   ┆ 32         ┆ 50     ┆ 0.01          ┆ relu       ┆ 3.231249       │\n",
            "│ 8     ┆ 64    ┆ 64         ┆ 50     ┆ 0.01          ┆ relu       ┆ 3.232436       │\n",
            "│ 4     ┆ 64    ┆ 32         ┆ 50     ┆ 0.01          ┆ sigmoid    ┆ 3.250887       │\n",
            "│ 4     ┆ 64    ┆ 32         ┆ 100    ┆ 0.01          ┆ sigmoid    ┆ 3.254878       │\n",
            "│ 4     ┆ 128   ┆ 32         ┆ 50     ┆ 0.01          ┆ sigmoid    ┆ 3.256702       │\n",
            "│ …     ┆ …     ┆ …          ┆ …      ┆ …             ┆ …          ┆ …              │\n",
            "│ 2     ┆ 128   ┆ 64         ┆ 100    ┆ 0.001         ┆ relu       ┆ 4.683614       │\n",
            "│ 2     ┆ 64    ┆ 64         ┆ 50     ┆ 0.001         ┆ relu       ┆ 4.809875       │\n",
            "│ 2     ┆ 64    ┆ 64         ┆ 100    ┆ 0.001         ┆ relu       ┆ 4.933922       │\n",
            "│ 4     ┆ 64    ┆ 64         ┆ 100    ┆ 0.001         ┆ relu       ┆ 4.93666        │\n",
            "│ 2     ┆ 128   ┆ 64         ┆ 50     ┆ 0.001         ┆ relu       ┆ 5.807391       │\n",
            "└───────┴───────┴────────────┴────────┴───────────────┴────────────┴────────────────┘\n"
          ]
        }
      ]
    },
    {
      "cell_type": "code",
      "source": [
        "# Best parameters\n",
        "best_params = results1_df.sort(\"final_val_loss\").head(3).to_dict(as_series=True)\n",
        "# Save best paramters to variables\n",
        "best_width = best_params[\"width\"][0]\n",
        "best_depth = best_params[\"depth\"][0]\n",
        "best_activation = best_params[\"activation\"][0]\n",
        "best_learning_rate = best_params[\"learning_rate\"][0]\n",
        "best_batch_size = best_params[\"batch_size\"][0]\n",
        "best_epochs = best_params[\"epochs\"][0]\n",
        "\n",
        "print(\"Best parameters:\")\n",
        "print(f'Width: {best_width}')\n",
        "print(f'Depth: {best_depth}')\n",
        "print(f'Activation: {best_activation}')\n",
        "print(f'Learning rate: {best_learning_rate}')\n",
        "print(f'Batch size: {best_batch_size}')\n",
        "print(f'Epochs: {best_epochs}')\n",
        "\n",
        "\n",
        "# Save best performing model\n",
        "print(\"Final model without dropout\")\n",
        "model1 = best_model\n",
        "model1.summary()\n",
        "\n"
      ],
      "metadata": {
        "colab": {
          "base_uri": "https://localhost:8080/",
          "height": 482
        },
        "id": "RSq36LFkjbwb",
        "outputId": "73be3072-cd9a-4a55-c6a7-2afe46b1a305"
      },
      "execution_count": 14,
      "outputs": [
        {
          "output_type": "stream",
          "name": "stdout",
          "text": [
            "Best parameters:\n",
            "Width: 128\n",
            "Depth: 4\n",
            "Activation: relu\n",
            "Learning rate: 0.01\n",
            "Batch size: 32\n",
            "Epochs: 50\n",
            "Final model without dropout\n"
          ]
        },
        {
          "output_type": "display_data",
          "data": {
            "text/plain": [
              "\u001b[1mModel: \"functional_99\"\u001b[0m\n"
            ],
            "text/html": [
              "<pre style=\"white-space:pre;overflow-x:auto;line-height:normal;font-family:Menlo,'DejaVu Sans Mono',consolas,'Courier New',monospace\"><span style=\"font-weight: bold\">Model: \"functional_99\"</span>\n",
              "</pre>\n"
            ]
          },
          "metadata": {}
        },
        {
          "output_type": "display_data",
          "data": {
            "text/plain": [
              "┏━━━━━━━━━━━━━━━━━━━━━━━━━━━━━━━━━┳━━━━━━━━━━━━━━━━━━━━━━━━━━━┳━━━━━━━━━━━━┓\n",
              "┃\u001b[1m \u001b[0m\u001b[1mLayer (type)                   \u001b[0m\u001b[1m \u001b[0m┃\u001b[1m \u001b[0m\u001b[1mOutput Shape             \u001b[0m\u001b[1m \u001b[0m┃\u001b[1m \u001b[0m\u001b[1m   Param #\u001b[0m\u001b[1m \u001b[0m┃\n",
              "┡━━━━━━━━━━━━━━━━━━━━━━━━━━━━━━━━━╇━━━━━━━━━━━━━━━━━━━━━━━━━━━╇━━━━━━━━━━━━┩\n",
              "│ input_layer_49 (\u001b[38;5;33mInputLayer\u001b[0m)     │ (\u001b[38;5;45mNone\u001b[0m, \u001b[38;5;34m55\u001b[0m)                │          \u001b[38;5;34m0\u001b[0m │\n",
              "├─────────────────────────────────┼───────────────────────────┼────────────┤\n",
              "│ dense_180 (\u001b[38;5;33mDense\u001b[0m)               │ (\u001b[38;5;45mNone\u001b[0m, \u001b[38;5;34m128\u001b[0m)               │      \u001b[38;5;34m7,168\u001b[0m │\n",
              "├─────────────────────────────────┼───────────────────────────┼────────────┤\n",
              "│ dense_181 (\u001b[38;5;33mDense\u001b[0m)               │ (\u001b[38;5;45mNone\u001b[0m, \u001b[38;5;34m128\u001b[0m)               │     \u001b[38;5;34m16,512\u001b[0m │\n",
              "├─────────────────────────────────┼───────────────────────────┼────────────┤\n",
              "│ dense_182 (\u001b[38;5;33mDense\u001b[0m)               │ (\u001b[38;5;45mNone\u001b[0m, \u001b[38;5;34m128\u001b[0m)               │     \u001b[38;5;34m16,512\u001b[0m │\n",
              "├─────────────────────────────────┼───────────────────────────┼────────────┤\n",
              "│ dense_183 (\u001b[38;5;33mDense\u001b[0m)               │ (\u001b[38;5;45mNone\u001b[0m, \u001b[38;5;34m128\u001b[0m)               │     \u001b[38;5;34m16,512\u001b[0m │\n",
              "├─────────────────────────────────┼───────────────────────────┼────────────┤\n",
              "│ dense_184 (\u001b[38;5;33mDense\u001b[0m)               │ (\u001b[38;5;45mNone\u001b[0m, \u001b[38;5;34m1\u001b[0m)                 │        \u001b[38;5;34m129\u001b[0m │\n",
              "└─────────────────────────────────┴───────────────────────────┴────────────┘\n"
            ],
            "text/html": [
              "<pre style=\"white-space:pre;overflow-x:auto;line-height:normal;font-family:Menlo,'DejaVu Sans Mono',consolas,'Courier New',monospace\">┏━━━━━━━━━━━━━━━━━━━━━━━━━━━━━━━━━┳━━━━━━━━━━━━━━━━━━━━━━━━━━━┳━━━━━━━━━━━━┓\n",
              "┃<span style=\"font-weight: bold\"> Layer (type)                    </span>┃<span style=\"font-weight: bold\"> Output Shape              </span>┃<span style=\"font-weight: bold\">    Param # </span>┃\n",
              "┡━━━━━━━━━━━━━━━━━━━━━━━━━━━━━━━━━╇━━━━━━━━━━━━━━━━━━━━━━━━━━━╇━━━━━━━━━━━━┩\n",
              "│ input_layer_49 (<span style=\"color: #0087ff; text-decoration-color: #0087ff\">InputLayer</span>)     │ (<span style=\"color: #00d7ff; text-decoration-color: #00d7ff\">None</span>, <span style=\"color: #00af00; text-decoration-color: #00af00\">55</span>)                │          <span style=\"color: #00af00; text-decoration-color: #00af00\">0</span> │\n",
              "├─────────────────────────────────┼───────────────────────────┼────────────┤\n",
              "│ dense_180 (<span style=\"color: #0087ff; text-decoration-color: #0087ff\">Dense</span>)               │ (<span style=\"color: #00d7ff; text-decoration-color: #00d7ff\">None</span>, <span style=\"color: #00af00; text-decoration-color: #00af00\">128</span>)               │      <span style=\"color: #00af00; text-decoration-color: #00af00\">7,168</span> │\n",
              "├─────────────────────────────────┼───────────────────────────┼────────────┤\n",
              "│ dense_181 (<span style=\"color: #0087ff; text-decoration-color: #0087ff\">Dense</span>)               │ (<span style=\"color: #00d7ff; text-decoration-color: #00d7ff\">None</span>, <span style=\"color: #00af00; text-decoration-color: #00af00\">128</span>)               │     <span style=\"color: #00af00; text-decoration-color: #00af00\">16,512</span> │\n",
              "├─────────────────────────────────┼───────────────────────────┼────────────┤\n",
              "│ dense_182 (<span style=\"color: #0087ff; text-decoration-color: #0087ff\">Dense</span>)               │ (<span style=\"color: #00d7ff; text-decoration-color: #00d7ff\">None</span>, <span style=\"color: #00af00; text-decoration-color: #00af00\">128</span>)               │     <span style=\"color: #00af00; text-decoration-color: #00af00\">16,512</span> │\n",
              "├─────────────────────────────────┼───────────────────────────┼────────────┤\n",
              "│ dense_183 (<span style=\"color: #0087ff; text-decoration-color: #0087ff\">Dense</span>)               │ (<span style=\"color: #00d7ff; text-decoration-color: #00d7ff\">None</span>, <span style=\"color: #00af00; text-decoration-color: #00af00\">128</span>)               │     <span style=\"color: #00af00; text-decoration-color: #00af00\">16,512</span> │\n",
              "├─────────────────────────────────┼───────────────────────────┼────────────┤\n",
              "│ dense_184 (<span style=\"color: #0087ff; text-decoration-color: #0087ff\">Dense</span>)               │ (<span style=\"color: #00d7ff; text-decoration-color: #00d7ff\">None</span>, <span style=\"color: #00af00; text-decoration-color: #00af00\">1</span>)                 │        <span style=\"color: #00af00; text-decoration-color: #00af00\">129</span> │\n",
              "└─────────────────────────────────┴───────────────────────────┴────────────┘\n",
              "</pre>\n"
            ]
          },
          "metadata": {}
        },
        {
          "output_type": "display_data",
          "data": {
            "text/plain": [
              "\u001b[1m Total params: \u001b[0m\u001b[38;5;34m170,501\u001b[0m (666.02 KB)\n"
            ],
            "text/html": [
              "<pre style=\"white-space:pre;overflow-x:auto;line-height:normal;font-family:Menlo,'DejaVu Sans Mono',consolas,'Courier New',monospace\"><span style=\"font-weight: bold\"> Total params: </span><span style=\"color: #00af00; text-decoration-color: #00af00\">170,501</span> (666.02 KB)\n",
              "</pre>\n"
            ]
          },
          "metadata": {}
        },
        {
          "output_type": "display_data",
          "data": {
            "text/plain": [
              "\u001b[1m Trainable params: \u001b[0m\u001b[38;5;34m56,833\u001b[0m (222.00 KB)\n"
            ],
            "text/html": [
              "<pre style=\"white-space:pre;overflow-x:auto;line-height:normal;font-family:Menlo,'DejaVu Sans Mono',consolas,'Courier New',monospace\"><span style=\"font-weight: bold\"> Trainable params: </span><span style=\"color: #00af00; text-decoration-color: #00af00\">56,833</span> (222.00 KB)\n",
              "</pre>\n"
            ]
          },
          "metadata": {}
        },
        {
          "output_type": "display_data",
          "data": {
            "text/plain": [
              "\u001b[1m Non-trainable params: \u001b[0m\u001b[38;5;34m0\u001b[0m (0.00 B)\n"
            ],
            "text/html": [
              "<pre style=\"white-space:pre;overflow-x:auto;line-height:normal;font-family:Menlo,'DejaVu Sans Mono',consolas,'Courier New',monospace\"><span style=\"font-weight: bold\"> Non-trainable params: </span><span style=\"color: #00af00; text-decoration-color: #00af00\">0</span> (0.00 B)\n",
              "</pre>\n"
            ]
          },
          "metadata": {}
        },
        {
          "output_type": "display_data",
          "data": {
            "text/plain": [
              "\u001b[1m Optimizer params: \u001b[0m\u001b[38;5;34m113,668\u001b[0m (444.02 KB)\n"
            ],
            "text/html": [
              "<pre style=\"white-space:pre;overflow-x:auto;line-height:normal;font-family:Menlo,'DejaVu Sans Mono',consolas,'Courier New',monospace\"><span style=\"font-weight: bold\"> Optimizer params: </span><span style=\"color: #00af00; text-decoration-color: #00af00\">113,668</span> (444.02 KB)\n",
              "</pre>\n"
            ]
          },
          "metadata": {}
        }
      ]
    },
    {
      "cell_type": "markdown",
      "source": [
        "MODELS WITH DROPOUT AND REGULARIZATION"
      ],
      "metadata": {
        "id": "KIwA5OnuIewS"
      }
    },
    {
      "cell_type": "code",
      "source": [
        "# Create a test model with dropout and regularization\n",
        "model_test2 = create_nn(\n",
        "  X_train.shape[1:],\n",
        "  width=best_params[\"width\"][0],\n",
        "  depth=best_params[\"depth\"][0],\n",
        "  activation=best_params[\"activation\"][0],\n",
        "  learning_rate=best_params[\"learning_rate\"][0],\n",
        "  dropout=0.2,\n",
        "  regularization_name=\"l2\",\n",
        "  regularization_rate=0.001,\n",
        ")\n",
        "model_test2.summary()"
      ],
      "metadata": {
        "colab": {
          "base_uri": "https://localhost:8080/",
          "height": 417
        },
        "id": "Gdr4BjBcIjKf",
        "outputId": "fab3eb4b-91f8-419b-ad67-66e67eff30ea"
      },
      "execution_count": 15,
      "outputs": [
        {
          "output_type": "display_data",
          "data": {
            "text/plain": [
              "\u001b[1mModel: \"functional_195\"\u001b[0m\n"
            ],
            "text/html": [
              "<pre style=\"white-space:pre;overflow-x:auto;line-height:normal;font-family:Menlo,'DejaVu Sans Mono',consolas,'Courier New',monospace\"><span style=\"font-weight: bold\">Model: \"functional_195\"</span>\n",
              "</pre>\n"
            ]
          },
          "metadata": {}
        },
        {
          "output_type": "display_data",
          "data": {
            "text/plain": [
              "┏━━━━━━━━━━━━━━━━━━━━━━━━━━━━━━━━━┳━━━━━━━━━━━━━━━━━━━━━━━━━━━┳━━━━━━━━━━━━┓\n",
              "┃\u001b[1m \u001b[0m\u001b[1mLayer (type)                   \u001b[0m\u001b[1m \u001b[0m┃\u001b[1m \u001b[0m\u001b[1mOutput Shape             \u001b[0m\u001b[1m \u001b[0m┃\u001b[1m \u001b[0m\u001b[1m   Param #\u001b[0m\u001b[1m \u001b[0m┃\n",
              "┡━━━━━━━━━━━━━━━━━━━━━━━━━━━━━━━━━╇━━━━━━━━━━━━━━━━━━━━━━━━━━━╇━━━━━━━━━━━━┩\n",
              "│ input_layer_97 (\u001b[38;5;33mInputLayer\u001b[0m)     │ (\u001b[38;5;45mNone\u001b[0m, \u001b[38;5;34m55\u001b[0m)                │          \u001b[38;5;34m0\u001b[0m │\n",
              "├─────────────────────────────────┼───────────────────────────┼────────────┤\n",
              "│ dense_548 (\u001b[38;5;33mDense\u001b[0m)               │ (\u001b[38;5;45mNone\u001b[0m, \u001b[38;5;34m128\u001b[0m)               │      \u001b[38;5;34m7,168\u001b[0m │\n",
              "├─────────────────────────────────┼───────────────────────────┼────────────┤\n",
              "│ dropout (\u001b[38;5;33mDropout\u001b[0m)               │ (\u001b[38;5;45mNone\u001b[0m, \u001b[38;5;34m128\u001b[0m)               │          \u001b[38;5;34m0\u001b[0m │\n",
              "├─────────────────────────────────┼───────────────────────────┼────────────┤\n",
              "│ dense_549 (\u001b[38;5;33mDense\u001b[0m)               │ (\u001b[38;5;45mNone\u001b[0m, \u001b[38;5;34m128\u001b[0m)               │     \u001b[38;5;34m16,512\u001b[0m │\n",
              "├─────────────────────────────────┼───────────────────────────┼────────────┤\n",
              "│ dropout_1 (\u001b[38;5;33mDropout\u001b[0m)             │ (\u001b[38;5;45mNone\u001b[0m, \u001b[38;5;34m128\u001b[0m)               │          \u001b[38;5;34m0\u001b[0m │\n",
              "├─────────────────────────────────┼───────────────────────────┼────────────┤\n",
              "│ dense_550 (\u001b[38;5;33mDense\u001b[0m)               │ (\u001b[38;5;45mNone\u001b[0m, \u001b[38;5;34m128\u001b[0m)               │     \u001b[38;5;34m16,512\u001b[0m │\n",
              "├─────────────────────────────────┼───────────────────────────┼────────────┤\n",
              "│ dropout_2 (\u001b[38;5;33mDropout\u001b[0m)             │ (\u001b[38;5;45mNone\u001b[0m, \u001b[38;5;34m128\u001b[0m)               │          \u001b[38;5;34m0\u001b[0m │\n",
              "├─────────────────────────────────┼───────────────────────────┼────────────┤\n",
              "│ dense_551 (\u001b[38;5;33mDense\u001b[0m)               │ (\u001b[38;5;45mNone\u001b[0m, \u001b[38;5;34m128\u001b[0m)               │     \u001b[38;5;34m16,512\u001b[0m │\n",
              "├─────────────────────────────────┼───────────────────────────┼────────────┤\n",
              "│ dense_552 (\u001b[38;5;33mDense\u001b[0m)               │ (\u001b[38;5;45mNone\u001b[0m, \u001b[38;5;34m1\u001b[0m)                 │        \u001b[38;5;34m129\u001b[0m │\n",
              "└─────────────────────────────────┴───────────────────────────┴────────────┘\n"
            ],
            "text/html": [
              "<pre style=\"white-space:pre;overflow-x:auto;line-height:normal;font-family:Menlo,'DejaVu Sans Mono',consolas,'Courier New',monospace\">┏━━━━━━━━━━━━━━━━━━━━━━━━━━━━━━━━━┳━━━━━━━━━━━━━━━━━━━━━━━━━━━┳━━━━━━━━━━━━┓\n",
              "┃<span style=\"font-weight: bold\"> Layer (type)                    </span>┃<span style=\"font-weight: bold\"> Output Shape              </span>┃<span style=\"font-weight: bold\">    Param # </span>┃\n",
              "┡━━━━━━━━━━━━━━━━━━━━━━━━━━━━━━━━━╇━━━━━━━━━━━━━━━━━━━━━━━━━━━╇━━━━━━━━━━━━┩\n",
              "│ input_layer_97 (<span style=\"color: #0087ff; text-decoration-color: #0087ff\">InputLayer</span>)     │ (<span style=\"color: #00d7ff; text-decoration-color: #00d7ff\">None</span>, <span style=\"color: #00af00; text-decoration-color: #00af00\">55</span>)                │          <span style=\"color: #00af00; text-decoration-color: #00af00\">0</span> │\n",
              "├─────────────────────────────────┼───────────────────────────┼────────────┤\n",
              "│ dense_548 (<span style=\"color: #0087ff; text-decoration-color: #0087ff\">Dense</span>)               │ (<span style=\"color: #00d7ff; text-decoration-color: #00d7ff\">None</span>, <span style=\"color: #00af00; text-decoration-color: #00af00\">128</span>)               │      <span style=\"color: #00af00; text-decoration-color: #00af00\">7,168</span> │\n",
              "├─────────────────────────────────┼───────────────────────────┼────────────┤\n",
              "│ dropout (<span style=\"color: #0087ff; text-decoration-color: #0087ff\">Dropout</span>)               │ (<span style=\"color: #00d7ff; text-decoration-color: #00d7ff\">None</span>, <span style=\"color: #00af00; text-decoration-color: #00af00\">128</span>)               │          <span style=\"color: #00af00; text-decoration-color: #00af00\">0</span> │\n",
              "├─────────────────────────────────┼───────────────────────────┼────────────┤\n",
              "│ dense_549 (<span style=\"color: #0087ff; text-decoration-color: #0087ff\">Dense</span>)               │ (<span style=\"color: #00d7ff; text-decoration-color: #00d7ff\">None</span>, <span style=\"color: #00af00; text-decoration-color: #00af00\">128</span>)               │     <span style=\"color: #00af00; text-decoration-color: #00af00\">16,512</span> │\n",
              "├─────────────────────────────────┼───────────────────────────┼────────────┤\n",
              "│ dropout_1 (<span style=\"color: #0087ff; text-decoration-color: #0087ff\">Dropout</span>)             │ (<span style=\"color: #00d7ff; text-decoration-color: #00d7ff\">None</span>, <span style=\"color: #00af00; text-decoration-color: #00af00\">128</span>)               │          <span style=\"color: #00af00; text-decoration-color: #00af00\">0</span> │\n",
              "├─────────────────────────────────┼───────────────────────────┼────────────┤\n",
              "│ dense_550 (<span style=\"color: #0087ff; text-decoration-color: #0087ff\">Dense</span>)               │ (<span style=\"color: #00d7ff; text-decoration-color: #00d7ff\">None</span>, <span style=\"color: #00af00; text-decoration-color: #00af00\">128</span>)               │     <span style=\"color: #00af00; text-decoration-color: #00af00\">16,512</span> │\n",
              "├─────────────────────────────────┼───────────────────────────┼────────────┤\n",
              "│ dropout_2 (<span style=\"color: #0087ff; text-decoration-color: #0087ff\">Dropout</span>)             │ (<span style=\"color: #00d7ff; text-decoration-color: #00d7ff\">None</span>, <span style=\"color: #00af00; text-decoration-color: #00af00\">128</span>)               │          <span style=\"color: #00af00; text-decoration-color: #00af00\">0</span> │\n",
              "├─────────────────────────────────┼───────────────────────────┼────────────┤\n",
              "│ dense_551 (<span style=\"color: #0087ff; text-decoration-color: #0087ff\">Dense</span>)               │ (<span style=\"color: #00d7ff; text-decoration-color: #00d7ff\">None</span>, <span style=\"color: #00af00; text-decoration-color: #00af00\">128</span>)               │     <span style=\"color: #00af00; text-decoration-color: #00af00\">16,512</span> │\n",
              "├─────────────────────────────────┼───────────────────────────┼────────────┤\n",
              "│ dense_552 (<span style=\"color: #0087ff; text-decoration-color: #0087ff\">Dense</span>)               │ (<span style=\"color: #00d7ff; text-decoration-color: #00d7ff\">None</span>, <span style=\"color: #00af00; text-decoration-color: #00af00\">1</span>)                 │        <span style=\"color: #00af00; text-decoration-color: #00af00\">129</span> │\n",
              "└─────────────────────────────────┴───────────────────────────┴────────────┘\n",
              "</pre>\n"
            ]
          },
          "metadata": {}
        },
        {
          "output_type": "display_data",
          "data": {
            "text/plain": [
              "\u001b[1m Total params: \u001b[0m\u001b[38;5;34m56,833\u001b[0m (222.00 KB)\n"
            ],
            "text/html": [
              "<pre style=\"white-space:pre;overflow-x:auto;line-height:normal;font-family:Menlo,'DejaVu Sans Mono',consolas,'Courier New',monospace\"><span style=\"font-weight: bold\"> Total params: </span><span style=\"color: #00af00; text-decoration-color: #00af00\">56,833</span> (222.00 KB)\n",
              "</pre>\n"
            ]
          },
          "metadata": {}
        },
        {
          "output_type": "display_data",
          "data": {
            "text/plain": [
              "\u001b[1m Trainable params: \u001b[0m\u001b[38;5;34m56,833\u001b[0m (222.00 KB)\n"
            ],
            "text/html": [
              "<pre style=\"white-space:pre;overflow-x:auto;line-height:normal;font-family:Menlo,'DejaVu Sans Mono',consolas,'Courier New',monospace\"><span style=\"font-weight: bold\"> Trainable params: </span><span style=\"color: #00af00; text-decoration-color: #00af00\">56,833</span> (222.00 KB)\n",
              "</pre>\n"
            ]
          },
          "metadata": {}
        },
        {
          "output_type": "display_data",
          "data": {
            "text/plain": [
              "\u001b[1m Non-trainable params: \u001b[0m\u001b[38;5;34m0\u001b[0m (0.00 B)\n"
            ],
            "text/html": [
              "<pre style=\"white-space:pre;overflow-x:auto;line-height:normal;font-family:Menlo,'DejaVu Sans Mono',consolas,'Courier New',monospace\"><span style=\"font-weight: bold\"> Non-trainable params: </span><span style=\"color: #00af00; text-decoration-color: #00af00\">0</span> (0.00 B)\n",
              "</pre>\n"
            ]
          },
          "metadata": {}
        }
      ]
    },
    {
      "cell_type": "code",
      "source": [
        "history_test2 = model_test2.fit(\n",
        "  X_train, y_train,\n",
        "  validation_data=(X_holdout, y_holdout),\n",
        "  batch_size=best_params[\"batch_size\"][0],\n",
        "  epochs=best_params[\"epochs\"][0],\n",
        "  verbose=1,\n",
        ")\n",
        "\n",
        "# Plot the history\n",
        "plt.figure(figsize=(10, 6))\n",
        "plt.plot(history_test2.history['loss'], label='Training Loss')\n",
        "plt.plot(history_test2.history['val_loss'], label='Validation Loss')\n",
        "plt.xlabel('Epoch')\n",
        "plt.ylabel('Loss')\n",
        "plt.title('Training and Validation Loss Over Epochs')\n",
        "plt.legend()\n",
        "plt.show()\n"
      ],
      "metadata": {
        "colab": {
          "base_uri": "https://localhost:8080/",
          "height": 1000
        },
        "id": "QG1N95_zIrpm",
        "outputId": "4aef457b-b290-445c-e8f2-e042e52dfce1"
      },
      "execution_count": 16,
      "outputs": [
        {
          "output_type": "stream",
          "name": "stdout",
          "text": [
            "Epoch 1/50\n",
            "\u001b[1m129/129\u001b[0m \u001b[32m━━━━━━━━━━━━━━━━━━━━\u001b[0m\u001b[37m\u001b[0m \u001b[1m4s\u001b[0m 23ms/step - loss: 326.6849 - val_loss: 3.2581\n",
            "Epoch 2/50\n",
            "\u001b[1m129/129\u001b[0m \u001b[32m━━━━━━━━━━━━━━━━━━━━\u001b[0m\u001b[37m\u001b[0m \u001b[1m1s\u001b[0m 2ms/step - loss: 3.4495 - val_loss: 3.2555\n",
            "Epoch 3/50\n",
            "\u001b[1m129/129\u001b[0m \u001b[32m━━━━━━━━━━━━━━━━━━━━\u001b[0m\u001b[37m\u001b[0m \u001b[1m0s\u001b[0m 2ms/step - loss: 3.5032 - val_loss: 3.2504\n",
            "Epoch 4/50\n",
            "\u001b[1m129/129\u001b[0m \u001b[32m━━━━━━━━━━━━━━━━━━━━\u001b[0m\u001b[37m\u001b[0m \u001b[1m0s\u001b[0m 2ms/step - loss: 3.1873 - val_loss: 3.2946\n",
            "Epoch 5/50\n",
            "\u001b[1m129/129\u001b[0m \u001b[32m━━━━━━━━━━━━━━━━━━━━\u001b[0m\u001b[37m\u001b[0m \u001b[1m0s\u001b[0m 2ms/step - loss: 3.2392 - val_loss: 3.2382\n",
            "Epoch 6/50\n",
            "\u001b[1m129/129\u001b[0m \u001b[32m━━━━━━━━━━━━━━━━━━━━\u001b[0m\u001b[37m\u001b[0m \u001b[1m0s\u001b[0m 2ms/step - loss: 3.0876 - val_loss: 3.2877\n",
            "Epoch 7/50\n",
            "\u001b[1m129/129\u001b[0m \u001b[32m━━━━━━━━━━━━━━━━━━━━\u001b[0m\u001b[37m\u001b[0m \u001b[1m0s\u001b[0m 2ms/step - loss: 3.2409 - val_loss: 3.2348\n",
            "Epoch 8/50\n",
            "\u001b[1m129/129\u001b[0m \u001b[32m━━━━━━━━━━━━━━━━━━━━\u001b[0m\u001b[37m\u001b[0m \u001b[1m0s\u001b[0m 2ms/step - loss: 3.3358 - val_loss: 3.2513\n",
            "Epoch 9/50\n",
            "\u001b[1m129/129\u001b[0m \u001b[32m━━━━━━━━━━━━━━━━━━━━\u001b[0m\u001b[37m\u001b[0m \u001b[1m0s\u001b[0m 2ms/step - loss: 3.1823 - val_loss: 3.2451\n",
            "Epoch 10/50\n",
            "\u001b[1m129/129\u001b[0m \u001b[32m━━━━━━━━━━━━━━━━━━━━\u001b[0m\u001b[37m\u001b[0m \u001b[1m0s\u001b[0m 2ms/step - loss: 3.1885 - val_loss: 3.2532\n",
            "Epoch 11/50\n",
            "\u001b[1m129/129\u001b[0m \u001b[32m━━━━━━━━━━━━━━━━━━━━\u001b[0m\u001b[37m\u001b[0m \u001b[1m0s\u001b[0m 2ms/step - loss: 3.0869 - val_loss: 3.2276\n",
            "Epoch 12/50\n",
            "\u001b[1m129/129\u001b[0m \u001b[32m━━━━━━━━━━━━━━━━━━━━\u001b[0m\u001b[37m\u001b[0m \u001b[1m0s\u001b[0m 2ms/step - loss: 3.1673 - val_loss: 3.2407\n",
            "Epoch 13/50\n",
            "\u001b[1m129/129\u001b[0m \u001b[32m━━━━━━━━━━━━━━━━━━━━\u001b[0m\u001b[37m\u001b[0m \u001b[1m0s\u001b[0m 2ms/step - loss: 3.2724 - val_loss: 3.2451\n",
            "Epoch 14/50\n",
            "\u001b[1m129/129\u001b[0m \u001b[32m━━━━━━━━━━━━━━━━━━━━\u001b[0m\u001b[37m\u001b[0m \u001b[1m0s\u001b[0m 2ms/step - loss: 3.0586 - val_loss: 3.2240\n",
            "Epoch 15/50\n",
            "\u001b[1m129/129\u001b[0m \u001b[32m━━━━━━━━━━━━━━━━━━━━\u001b[0m\u001b[37m\u001b[0m \u001b[1m0s\u001b[0m 2ms/step - loss: 3.0314 - val_loss: 3.2326\n",
            "Epoch 16/50\n",
            "\u001b[1m129/129\u001b[0m \u001b[32m━━━━━━━━━━━━━━━━━━━━\u001b[0m\u001b[37m\u001b[0m \u001b[1m0s\u001b[0m 2ms/step - loss: 3.1245 - val_loss: 3.1894\n",
            "Epoch 17/50\n",
            "\u001b[1m129/129\u001b[0m \u001b[32m━━━━━━━━━━━━━━━━━━━━\u001b[0m\u001b[37m\u001b[0m \u001b[1m0s\u001b[0m 2ms/step - loss: 3.1350 - val_loss: 3.2766\n",
            "Epoch 18/50\n",
            "\u001b[1m129/129\u001b[0m \u001b[32m━━━━━━━━━━━━━━━━━━━━\u001b[0m\u001b[37m\u001b[0m \u001b[1m0s\u001b[0m 2ms/step - loss: 3.2174 - val_loss: 3.1991\n",
            "Epoch 19/50\n",
            "\u001b[1m129/129\u001b[0m \u001b[32m━━━━━━━━━━━━━━━━━━━━\u001b[0m\u001b[37m\u001b[0m \u001b[1m0s\u001b[0m 2ms/step - loss: 2.9913 - val_loss: 3.3094\n",
            "Epoch 20/50\n",
            "\u001b[1m129/129\u001b[0m \u001b[32m━━━━━━━━━━━━━━━━━━━━\u001b[0m\u001b[37m\u001b[0m \u001b[1m0s\u001b[0m 2ms/step - loss: 3.3284 - val_loss: 3.2915\n",
            "Epoch 21/50\n",
            "\u001b[1m129/129\u001b[0m \u001b[32m━━━━━━━━━━━━━━━━━━━━\u001b[0m\u001b[37m\u001b[0m \u001b[1m0s\u001b[0m 2ms/step - loss: 3.2119 - val_loss: 3.2663\n",
            "Epoch 22/50\n",
            "\u001b[1m129/129\u001b[0m \u001b[32m━━━━━━━━━━━━━━━━━━━━\u001b[0m\u001b[37m\u001b[0m \u001b[1m0s\u001b[0m 2ms/step - loss: 3.3013 - val_loss: 3.3122\n",
            "Epoch 23/50\n",
            "\u001b[1m129/129\u001b[0m \u001b[32m━━━━━━━━━━━━━━━━━━━━\u001b[0m\u001b[37m\u001b[0m \u001b[1m0s\u001b[0m 3ms/step - loss: 3.0905 - val_loss: 3.2604\n",
            "Epoch 24/50\n",
            "\u001b[1m129/129\u001b[0m \u001b[32m━━━━━━━━━━━━━━━━━━━━\u001b[0m\u001b[37m\u001b[0m \u001b[1m0s\u001b[0m 2ms/step - loss: 3.1250 - val_loss: 3.2961\n",
            "Epoch 25/50\n",
            "\u001b[1m129/129\u001b[0m \u001b[32m━━━━━━━━━━━━━━━━━━━━\u001b[0m\u001b[37m\u001b[0m \u001b[1m0s\u001b[0m 3ms/step - loss: 3.3191 - val_loss: 3.2509\n",
            "Epoch 26/50\n",
            "\u001b[1m129/129\u001b[0m \u001b[32m━━━━━━━━━━━━━━━━━━━━\u001b[0m\u001b[37m\u001b[0m \u001b[1m0s\u001b[0m 3ms/step - loss: 2.9977 - val_loss: 3.2837\n",
            "Epoch 27/50\n",
            "\u001b[1m129/129\u001b[0m \u001b[32m━━━━━━━━━━━━━━━━━━━━\u001b[0m\u001b[37m\u001b[0m \u001b[1m0s\u001b[0m 3ms/step - loss: 3.1729 - val_loss: 3.2912\n",
            "Epoch 28/50\n",
            "\u001b[1m129/129\u001b[0m \u001b[32m━━━━━━━━━━━━━━━━━━━━\u001b[0m\u001b[37m\u001b[0m \u001b[1m0s\u001b[0m 3ms/step - loss: 3.2677 - val_loss: 3.2843\n",
            "Epoch 29/50\n",
            "\u001b[1m129/129\u001b[0m \u001b[32m━━━━━━━━━━━━━━━━━━━━\u001b[0m\u001b[37m\u001b[0m \u001b[1m0s\u001b[0m 3ms/step - loss: 3.1022 - val_loss: 3.3120\n",
            "Epoch 30/50\n",
            "\u001b[1m129/129\u001b[0m \u001b[32m━━━━━━━━━━━━━━━━━━━━\u001b[0m\u001b[37m\u001b[0m \u001b[1m0s\u001b[0m 3ms/step - loss: 3.1198 - val_loss: 3.3028\n",
            "Epoch 31/50\n",
            "\u001b[1m129/129\u001b[0m \u001b[32m━━━━━━━━━━━━━━━━━━━━\u001b[0m\u001b[37m\u001b[0m \u001b[1m0s\u001b[0m 3ms/step - loss: 3.1444 - val_loss: 3.2660\n",
            "Epoch 32/50\n",
            "\u001b[1m129/129\u001b[0m \u001b[32m━━━━━━━━━━━━━━━━━━━━\u001b[0m\u001b[37m\u001b[0m \u001b[1m0s\u001b[0m 2ms/step - loss: 3.0784 - val_loss: 3.2476\n",
            "Epoch 33/50\n",
            "\u001b[1m129/129\u001b[0m \u001b[32m━━━━━━━━━━━━━━━━━━━━\u001b[0m\u001b[37m\u001b[0m \u001b[1m0s\u001b[0m 2ms/step - loss: 3.1519 - val_loss: 3.2167\n",
            "Epoch 34/50\n",
            "\u001b[1m129/129\u001b[0m \u001b[32m━━━━━━━━━━━━━━━━━━━━\u001b[0m\u001b[37m\u001b[0m \u001b[1m0s\u001b[0m 2ms/step - loss: 3.1688 - val_loss: 3.2295\n",
            "Epoch 35/50\n",
            "\u001b[1m129/129\u001b[0m \u001b[32m━━━━━━━━━━━━━━━━━━━━\u001b[0m\u001b[37m\u001b[0m \u001b[1m0s\u001b[0m 2ms/step - loss: 3.2390 - val_loss: 3.2445\n",
            "Epoch 36/50\n",
            "\u001b[1m129/129\u001b[0m \u001b[32m━━━━━━━━━━━━━━━━━━━━\u001b[0m\u001b[37m\u001b[0m \u001b[1m0s\u001b[0m 2ms/step - loss: 3.0479 - val_loss: 3.2157\n",
            "Epoch 37/50\n",
            "\u001b[1m129/129\u001b[0m \u001b[32m━━━━━━━━━━━━━━━━━━━━\u001b[0m\u001b[37m\u001b[0m \u001b[1m0s\u001b[0m 2ms/step - loss: 3.1119 - val_loss: 3.2426\n",
            "Epoch 38/50\n",
            "\u001b[1m129/129\u001b[0m \u001b[32m━━━━━━━━━━━━━━━━━━━━\u001b[0m\u001b[37m\u001b[0m \u001b[1m0s\u001b[0m 2ms/step - loss: 3.1196 - val_loss: 3.3112\n",
            "Epoch 39/50\n",
            "\u001b[1m129/129\u001b[0m \u001b[32m━━━━━━━━━━━━━━━━━━━━\u001b[0m\u001b[37m\u001b[0m \u001b[1m0s\u001b[0m 2ms/step - loss: 3.0737 - val_loss: 3.2785\n",
            "Epoch 40/50\n",
            "\u001b[1m129/129\u001b[0m \u001b[32m━━━━━━━━━━━━━━━━━━━━\u001b[0m\u001b[37m\u001b[0m \u001b[1m0s\u001b[0m 2ms/step - loss: 3.1567 - val_loss: 3.2849\n",
            "Epoch 41/50\n",
            "\u001b[1m129/129\u001b[0m \u001b[32m━━━━━━━━━━━━━━━━━━━━\u001b[0m\u001b[37m\u001b[0m \u001b[1m0s\u001b[0m 2ms/step - loss: 3.2526 - val_loss: 3.3062\n",
            "Epoch 42/50\n",
            "\u001b[1m129/129\u001b[0m \u001b[32m━━━━━━━━━━━━━━━━━━━━\u001b[0m\u001b[37m\u001b[0m \u001b[1m0s\u001b[0m 2ms/step - loss: 3.2058 - val_loss: 3.3041\n",
            "Epoch 43/50\n",
            "\u001b[1m129/129\u001b[0m \u001b[32m━━━━━━━━━━━━━━━━━━━━\u001b[0m\u001b[37m\u001b[0m \u001b[1m0s\u001b[0m 2ms/step - loss: 3.2085 - val_loss: 3.3035\n",
            "Epoch 44/50\n",
            "\u001b[1m129/129\u001b[0m \u001b[32m━━━━━━━━━━━━━━━━━━━━\u001b[0m\u001b[37m\u001b[0m \u001b[1m0s\u001b[0m 2ms/step - loss: 3.2757 - val_loss: 3.3037\n",
            "Epoch 45/50\n",
            "\u001b[1m129/129\u001b[0m \u001b[32m━━━━━━━━━━━━━━━━━━━━\u001b[0m\u001b[37m\u001b[0m \u001b[1m0s\u001b[0m 2ms/step - loss: 3.0529 - val_loss: 3.3028\n",
            "Epoch 46/50\n",
            "\u001b[1m129/129\u001b[0m \u001b[32m━━━━━━━━━━━━━━━━━━━━\u001b[0m\u001b[37m\u001b[0m \u001b[1m0s\u001b[0m 2ms/step - loss: 3.1831 - val_loss: 3.3039\n",
            "Epoch 47/50\n",
            "\u001b[1m129/129\u001b[0m \u001b[32m━━━━━━━━━━━━━━━━━━━━\u001b[0m\u001b[37m\u001b[0m \u001b[1m0s\u001b[0m 2ms/step - loss: 3.1629 - val_loss: 3.3067\n",
            "Epoch 48/50\n",
            "\u001b[1m129/129\u001b[0m \u001b[32m━━━━━━━━━━━━━━━━━━━━\u001b[0m\u001b[37m\u001b[0m \u001b[1m0s\u001b[0m 2ms/step - loss: 3.0908 - val_loss: 3.3077\n",
            "Epoch 49/50\n",
            "\u001b[1m129/129\u001b[0m \u001b[32m━━━━━━━━━━━━━━━━━━━━\u001b[0m\u001b[37m\u001b[0m \u001b[1m0s\u001b[0m 2ms/step - loss: 3.0575 - val_loss: 3.3088\n",
            "Epoch 50/50\n",
            "\u001b[1m129/129\u001b[0m \u001b[32m━━━━━━━━━━━━━━━━━━━━\u001b[0m\u001b[37m\u001b[0m \u001b[1m0s\u001b[0m 2ms/step - loss: 3.1673 - val_loss: 3.3030\n"
          ]
        },
        {
          "output_type": "display_data",
          "data": {
            "text/plain": [
              "<Figure size 1000x600 with 1 Axes>"
            ],
            "image/png": "[encoded data removed]"
          },
          "metadata": {}
        }
      ]
    },
    {
      "cell_type": "code",
      "source": [
        "# Hyperparameter Sweep\n",
        "# --- Hyperparameter grid ---\n",
        "param_grid = {\n",
        "    \"dropout\":  [0.0, 0.1, 0.2, 0.3, 0.4, 0.5],\n",
        "    \"regularization_name\":     [\"l1\", \"l2\"],\n",
        "    \"regularization_rate\":     [0.01, 0.001, 0.0001],\n",
        "}\n",
        "\n",
        "# Generate all combinations\n",
        "keys, values = zip(*param_grid.items())\n",
        "combinations = [dict(zip(keys, v)) for v in itertools.product(*values)]\n",
        "\n",
        "# Storage for results\n",
        "results = []\n",
        "\n",
        "best_model2 = None\n",
        "best_val_loss2 = float(\"inf\")\n",
        "\n",
        "# Early stopping callback to speed up training\n",
        "# early_stop = EarlyStopping(\n",
        "#     monitor=\"val_loss\",\n",
        "#     patience=5,\n",
        "#     restore_best_weights=True,\n",
        "#     verbose=0\n",
        "# )\n",
        "\n",
        "# Sweep\n",
        "for params in combinations:\n",
        "    print(\"Training with:\", params)\n",
        "\n",
        "    # Build a fresh model\n",
        "    model = create_nn(\n",
        "        input_shape = X_train.shape[1:],\n",
        "        width          = best_width,\n",
        "        depth          = best_depth,\n",
        "        activation     = best_activation,\n",
        "        learning_rate  = best_learning_rate,\n",
        "        dropout        = params[\"dropout\"],\n",
        "        regularization_name = params[\"regularization_name\"],\n",
        "        regularization_rate = params[\"regularization_rate\"],\n",
        "    )\n",
        "\n",
        "    # Train\n",
        "    history = model.fit(\n",
        "        X_train, y_train,\n",
        "        validation_data=(X_holdout, y_holdout),\n",
        "        batch_size   = best_batch_size,\n",
        "        epochs       = best_epochs,\n",
        "        # callbacks    = [early_stop],\n",
        "        verbose      = 0,  # set to 1 if you want per‑epoch logs\n",
        "    )\n",
        "\n",
        "    # Record final validation loss & mse\n",
        "    final_val_loss = history.history[\"val_loss\"][-1]\n",
        "\n",
        "    print(f\"Final validation loss: {final_val_loss:.4f}\")\n",
        "\n",
        "    if final_val_loss < best_val_loss2:\n",
        "        best_val_loss2 = final_val_loss\n",
        "        best_model2 = model\n",
        "\n",
        "    results.append({\n",
        "        **params,\n",
        "        \"final_val_loss\": final_val_loss,\n",
        "    })\n",
        "\n",
        "# Summarize in a DataFrame\n",
        "results2_df = pl.DataFrame(results).sort(\"final_val_loss\")\n",
        "print(results2_df)"
      ],
      "metadata": {
        "colab": {
          "base_uri": "https://localhost:8080/"
        },
        "id": "kKOvloc0neJN",
        "outputId": "02be62ba-431e-450c-d0c7-fd7d6799e85f"
      },
      "execution_count": 17,
      "outputs": [
        {
          "output_type": "stream",
          "name": "stdout",
          "text": [
            "Training with: {'dropout': 0.0, 'regularization_name': 'l1', 'regularization_rate': 0.01}\n",
            "Final validation loss: 3.2871\n",
            "Training with: {'dropout': 0.0, 'regularization_name': 'l1', 'regularization_rate': 0.001}\n",
            "Final validation loss: 3.3081\n",
            "Training with: {'dropout': 0.0, 'regularization_name': 'l1', 'regularization_rate': 0.0001}\n",
            "Final validation loss: 3.2940\n",
            "Training with: {'dropout': 0.0, 'regularization_name': 'l2', 'regularization_rate': 0.01}\n",
            "Final validation loss: 3.2987\n",
            "Training with: {'dropout': 0.0, 'regularization_name': 'l2', 'regularization_rate': 0.001}\n",
            "Final validation loss: 3.2868\n",
            "Training with: {'dropout': 0.0, 'regularization_name': 'l2', 'regularization_rate': 0.0001}\n",
            "Final validation loss: 3.2708\n",
            "Training with: {'dropout': 0.1, 'regularization_name': 'l1', 'regularization_rate': 0.01}\n",
            "Final validation loss: 3.2827\n",
            "Training with: {'dropout': 0.1, 'regularization_name': 'l1', 'regularization_rate': 0.001}\n",
            "Final validation loss: 3.2379\n",
            "Training with: {'dropout': 0.1, 'regularization_name': 'l1', 'regularization_rate': 0.0001}\n",
            "Final validation loss: 3.2837\n",
            "Training with: {'dropout': 0.1, 'regularization_name': 'l2', 'regularization_rate': 0.01}\n",
            "Final validation loss: 3.2725\n",
            "Training with: {'dropout': 0.1, 'regularization_name': 'l2', 'regularization_rate': 0.001}\n",
            "Final validation loss: 3.2289\n",
            "Training with: {'dropout': 0.1, 'regularization_name': 'l2', 'regularization_rate': 0.0001}\n",
            "Final validation loss: 3.3041\n",
            "Training with: {'dropout': 0.2, 'regularization_name': 'l1', 'regularization_rate': 0.01}\n",
            "Final validation loss: 3.3070\n",
            "Training with: {'dropout': 0.2, 'regularization_name': 'l1', 'regularization_rate': 0.001}\n",
            "Final validation loss: 3.3006\n",
            "Training with: {'dropout': 0.2, 'regularization_name': 'l1', 'regularization_rate': 0.0001}\n",
            "Final validation loss: 3.3057\n",
            "Training with: {'dropout': 0.2, 'regularization_name': 'l2', 'regularization_rate': 0.01}\n",
            "Final validation loss: 3.3065\n",
            "Training with: {'dropout': 0.2, 'regularization_name': 'l2', 'regularization_rate': 0.001}\n",
            "Final validation loss: 3.3190\n",
            "Training with: {'dropout': 0.2, 'regularization_name': 'l2', 'regularization_rate': 0.0001}\n",
            "Final validation loss: 3.3051\n",
            "Training with: {'dropout': 0.3, 'regularization_name': 'l1', 'regularization_rate': 0.01}\n",
            "Final validation loss: 3.2679\n",
            "Training with: {'dropout': 0.3, 'regularization_name': 'l1', 'regularization_rate': 0.001}\n",
            "Final validation loss: 3.3124\n",
            "Training with: {'dropout': 0.3, 'regularization_name': 'l1', 'regularization_rate': 0.0001}\n",
            "Final validation loss: 3.3055\n",
            "Training with: {'dropout': 0.3, 'regularization_name': 'l2', 'regularization_rate': 0.01}\n",
            "Final validation loss: 3.3095\n",
            "Training with: {'dropout': 0.3, 'regularization_name': 'l2', 'regularization_rate': 0.001}\n",
            "Final validation loss: 3.3079\n",
            "Training with: {'dropout': 0.3, 'regularization_name': 'l2', 'regularization_rate': 0.0001}\n",
            "Final validation loss: 3.3130\n",
            "Training with: {'dropout': 0.4, 'regularization_name': 'l1', 'regularization_rate': 0.01}\n",
            "Final validation loss: 3.3047\n",
            "Training with: {'dropout': 0.4, 'regularization_name': 'l1', 'regularization_rate': 0.001}\n",
            "Final validation loss: 3.3050\n",
            "Training with: {'dropout': 0.4, 'regularization_name': 'l1', 'regularization_rate': 0.0001}\n",
            "Final validation loss: 3.3103\n",
            "Training with: {'dropout': 0.4, 'regularization_name': 'l2', 'regularization_rate': 0.01}\n",
            "Final validation loss: 3.3044\n",
            "Training with: {'dropout': 0.4, 'regularization_name': 'l2', 'regularization_rate': 0.001}\n",
            "Final validation loss: 3.3215\n",
            "Training with: {'dropout': 0.4, 'regularization_name': 'l2', 'regularization_rate': 0.0001}\n",
            "Final validation loss: 3.3084\n",
            "Training with: {'dropout': 0.5, 'regularization_name': 'l1', 'regularization_rate': 0.01}\n",
            "Final validation loss: 3.3098\n",
            "Training with: {'dropout': 0.5, 'regularization_name': 'l1', 'regularization_rate': 0.001}\n",
            "Final validation loss: 3.3017\n",
            "Training with: {'dropout': 0.5, 'regularization_name': 'l1', 'regularization_rate': 0.0001}\n",
            "Final validation loss: 3.2806\n",
            "Training with: {'dropout': 0.5, 'regularization_name': 'l2', 'regularization_rate': 0.01}\n",
            "Final validation loss: 3.3215\n",
            "Training with: {'dropout': 0.5, 'regularization_name': 'l2', 'regularization_rate': 0.001}\n",
            "Final validation loss: 3.2888\n",
            "Training with: {'dropout': 0.5, 'regularization_name': 'l2', 'regularization_rate': 0.0001}\n",
            "Final validation loss: 3.2961\n",
            "shape: (36, 4)\n",
            "┌─────────┬─────────────────────┬─────────────────────┬────────────────┐\n",
            "│ dropout ┆ regularization_name ┆ regularization_rate ┆ final_val_loss │\n",
            "│ ---     ┆ ---                 ┆ ---                 ┆ ---            │\n",
            "│ f64     ┆ str                 ┆ f64                 ┆ f64            │\n",
            "╞═════════╪═════════════════════╪═════════════════════╪════════════════╡\n",
            "│ 0.1     ┆ l2                  ┆ 0.001               ┆ 3.228904       │\n",
            "│ 0.1     ┆ l1                  ┆ 0.001               ┆ 3.237939       │\n",
            "│ 0.3     ┆ l1                  ┆ 0.01                ┆ 3.267942       │\n",
            "│ 0.0     ┆ l2                  ┆ 0.0001              ┆ 3.270755       │\n",
            "│ 0.1     ┆ l2                  ┆ 0.01                ┆ 3.272471       │\n",
            "│ …       ┆ …                   ┆ …                   ┆ …              │\n",
            "│ 0.3     ┆ l1                  ┆ 0.001               ┆ 3.312449       │\n",
            "│ 0.3     ┆ l2                  ┆ 0.0001              ┆ 3.312972       │\n",
            "│ 0.2     ┆ l2                  ┆ 0.001               ┆ 3.31901        │\n",
            "│ 0.4     ┆ l2                  ┆ 0.001               ┆ 3.321514       │\n",
            "│ 0.5     ┆ l2                  ┆ 0.01                ┆ 3.321523       │\n",
            "└─────────┴─────────────────────┴─────────────────────┴────────────────┘\n"
          ]
        }
      ]
    },
    {
      "cell_type": "code",
      "source": [
        "# Best parameters\n",
        "best_params2 = results2_df.sort(\"final_val_loss\").head(1).to_dict(as_series=True)\n",
        "print(\"Best parameters:\")\n",
        "print(f'Dropout: {best_params2[\"dropout\"][0]}')\n",
        "print(f'Regularization name: {best_params2[\"regularization_name\"][0]}')\n",
        "print(f'Regularization rate: {best_params2[\"regularization_rate\"][0]}')\n",
        "\n",
        "\n",
        "# Save best performing model\n",
        "print(\"Final model with dropout\")\n",
        "model2 = best_model2\n",
        "model2.summary()"
      ],
      "metadata": {
        "id": "3h0nAETGwD4K",
        "colab": {
          "base_uri": "https://localhost:8080/",
          "height": 524
        },
        "outputId": "f496ebdc-8d55-4e93-c24c-4401a8e3e7a2"
      },
      "execution_count": 20,
      "outputs": [
        {
          "output_type": "stream",
          "name": "stdout",
          "text": [
            "Best parameters:\n",
            "Dropout: 0.1\n",
            "Regularization name: l2\n",
            "Regularization rate: 0.001\n",
            "Final model with dropout\n"
          ]
        },
        {
          "output_type": "display_data",
          "data": {
            "text/plain": [
              "\u001b[1mModel: \"functional_217\"\u001b[0m\n"
            ],
            "text/html": [
              "<pre style=\"white-space:pre;overflow-x:auto;line-height:normal;font-family:Menlo,'DejaVu Sans Mono',consolas,'Courier New',monospace\"><span style=\"font-weight: bold\">Model: \"functional_217\"</span>\n",
              "</pre>\n"
            ]
          },
          "metadata": {}
        },
        {
          "output_type": "display_data",
          "data": {
            "text/plain": [
              "┏━━━━━━━━━━━━━━━━━━━━━━━━━━━━━━━━━┳━━━━━━━━━━━━━━━━━━━━━━━━━━━┳━━━━━━━━━━━━┓\n",
              "┃\u001b[1m \u001b[0m\u001b[1mLayer (type)                   \u001b[0m\u001b[1m \u001b[0m┃\u001b[1m \u001b[0m\u001b[1mOutput Shape             \u001b[0m\u001b[1m \u001b[0m┃\u001b[1m \u001b[0m\u001b[1m   Param #\u001b[0m\u001b[1m \u001b[0m┃\n",
              "┡━━━━━━━━━━━━━━━━━━━━━━━━━━━━━━━━━╇━━━━━━━━━━━━━━━━━━━━━━━━━━━╇━━━━━━━━━━━━┩\n",
              "│ input_layer_108 (\u001b[38;5;33mInputLayer\u001b[0m)    │ (\u001b[38;5;45mNone\u001b[0m, \u001b[38;5;34m55\u001b[0m)                │          \u001b[38;5;34m0\u001b[0m │\n",
              "├─────────────────────────────────┼───────────────────────────┼────────────┤\n",
              "│ dense_603 (\u001b[38;5;33mDense\u001b[0m)               │ (\u001b[38;5;45mNone\u001b[0m, \u001b[38;5;34m128\u001b[0m)               │      \u001b[38;5;34m7,168\u001b[0m │\n",
              "├─────────────────────────────────┼───────────────────────────┼────────────┤\n",
              "│ dropout_15 (\u001b[38;5;33mDropout\u001b[0m)            │ (\u001b[38;5;45mNone\u001b[0m, \u001b[38;5;34m128\u001b[0m)               │          \u001b[38;5;34m0\u001b[0m │\n",
              "├─────────────────────────────────┼───────────────────────────┼────────────┤\n",
              "│ dense_604 (\u001b[38;5;33mDense\u001b[0m)               │ (\u001b[38;5;45mNone\u001b[0m, \u001b[38;5;34m128\u001b[0m)               │     \u001b[38;5;34m16,512\u001b[0m │\n",
              "├─────────────────────────────────┼───────────────────────────┼────────────┤\n",
              "│ dropout_16 (\u001b[38;5;33mDropout\u001b[0m)            │ (\u001b[38;5;45mNone\u001b[0m, \u001b[38;5;34m128\u001b[0m)               │          \u001b[38;5;34m0\u001b[0m │\n",
              "├─────────────────────────────────┼───────────────────────────┼────────────┤\n",
              "│ dense_605 (\u001b[38;5;33mDense\u001b[0m)               │ (\u001b[38;5;45mNone\u001b[0m, \u001b[38;5;34m128\u001b[0m)               │     \u001b[38;5;34m16,512\u001b[0m │\n",
              "├─────────────────────────────────┼───────────────────────────┼────────────┤\n",
              "│ dropout_17 (\u001b[38;5;33mDropout\u001b[0m)            │ (\u001b[38;5;45mNone\u001b[0m, \u001b[38;5;34m128\u001b[0m)               │          \u001b[38;5;34m0\u001b[0m │\n",
              "├─────────────────────────────────┼───────────────────────────┼────────────┤\n",
              "│ dense_606 (\u001b[38;5;33mDense\u001b[0m)               │ (\u001b[38;5;45mNone\u001b[0m, \u001b[38;5;34m128\u001b[0m)               │     \u001b[38;5;34m16,512\u001b[0m │\n",
              "├─────────────────────────────────┼───────────────────────────┼────────────┤\n",
              "│ dense_607 (\u001b[38;5;33mDense\u001b[0m)               │ (\u001b[38;5;45mNone\u001b[0m, \u001b[38;5;34m1\u001b[0m)                 │        \u001b[38;5;34m129\u001b[0m │\n",
              "└─────────────────────────────────┴───────────────────────────┴────────────┘\n"
            ],
            "text/html": [
              "<pre style=\"white-space:pre;overflow-x:auto;line-height:normal;font-family:Menlo,'DejaVu Sans Mono',consolas,'Courier New',monospace\">┏━━━━━━━━━━━━━━━━━━━━━━━━━━━━━━━━━┳━━━━━━━━━━━━━━━━━━━━━━━━━━━┳━━━━━━━━━━━━┓\n",
              "┃<span style=\"font-weight: bold\"> Layer (type)                    </span>┃<span style=\"font-weight: bold\"> Output Shape              </span>┃<span style=\"font-weight: bold\">    Param # </span>┃\n",
              "┡━━━━━━━━━━━━━━━━━━━━━━━━━━━━━━━━━╇━━━━━━━━━━━━━━━━━━━━━━━━━━━╇━━━━━━━━━━━━┩\n",
              "│ input_layer_108 (<span style=\"color: #0087ff; text-decoration-color: #0087ff\">InputLayer</span>)    │ (<span style=\"color: #00d7ff; text-decoration-color: #00d7ff\">None</span>, <span style=\"color: #00af00; text-decoration-color: #00af00\">55</span>)                │          <span style=\"color: #00af00; text-decoration-color: #00af00\">0</span> │\n",
              "├─────────────────────────────────┼───────────────────────────┼────────────┤\n",
              "│ dense_603 (<span style=\"color: #0087ff; text-decoration-color: #0087ff\">Dense</span>)               │ (<span style=\"color: #00d7ff; text-decoration-color: #00d7ff\">None</span>, <span style=\"color: #00af00; text-decoration-color: #00af00\">128</span>)               │      <span style=\"color: #00af00; text-decoration-color: #00af00\">7,168</span> │\n",
              "├─────────────────────────────────┼───────────────────────────┼────────────┤\n",
              "│ dropout_15 (<span style=\"color: #0087ff; text-decoration-color: #0087ff\">Dropout</span>)            │ (<span style=\"color: #00d7ff; text-decoration-color: #00d7ff\">None</span>, <span style=\"color: #00af00; text-decoration-color: #00af00\">128</span>)               │          <span style=\"color: #00af00; text-decoration-color: #00af00\">0</span> │\n",
              "├─────────────────────────────────┼───────────────────────────┼────────────┤\n",
              "│ dense_604 (<span style=\"color: #0087ff; text-decoration-color: #0087ff\">Dense</span>)               │ (<span style=\"color: #00d7ff; text-decoration-color: #00d7ff\">None</span>, <span style=\"color: #00af00; text-decoration-color: #00af00\">128</span>)               │     <span style=\"color: #00af00; text-decoration-color: #00af00\">16,512</span> │\n",
              "├─────────────────────────────────┼───────────────────────────┼────────────┤\n",
              "│ dropout_16 (<span style=\"color: #0087ff; text-decoration-color: #0087ff\">Dropout</span>)            │ (<span style=\"color: #00d7ff; text-decoration-color: #00d7ff\">None</span>, <span style=\"color: #00af00; text-decoration-color: #00af00\">128</span>)               │          <span style=\"color: #00af00; text-decoration-color: #00af00\">0</span> │\n",
              "├─────────────────────────────────┼───────────────────────────┼────────────┤\n",
              "│ dense_605 (<span style=\"color: #0087ff; text-decoration-color: #0087ff\">Dense</span>)               │ (<span style=\"color: #00d7ff; text-decoration-color: #00d7ff\">None</span>, <span style=\"color: #00af00; text-decoration-color: #00af00\">128</span>)               │     <span style=\"color: #00af00; text-decoration-color: #00af00\">16,512</span> │\n",
              "├─────────────────────────────────┼───────────────────────────┼────────────┤\n",
              "│ dropout_17 (<span style=\"color: #0087ff; text-decoration-color: #0087ff\">Dropout</span>)            │ (<span style=\"color: #00d7ff; text-decoration-color: #00d7ff\">None</span>, <span style=\"color: #00af00; text-decoration-color: #00af00\">128</span>)               │          <span style=\"color: #00af00; text-decoration-color: #00af00\">0</span> │\n",
              "├─────────────────────────────────┼───────────────────────────┼────────────┤\n",
              "│ dense_606 (<span style=\"color: #0087ff; text-decoration-color: #0087ff\">Dense</span>)               │ (<span style=\"color: #00d7ff; text-decoration-color: #00d7ff\">None</span>, <span style=\"color: #00af00; text-decoration-color: #00af00\">128</span>)               │     <span style=\"color: #00af00; text-decoration-color: #00af00\">16,512</span> │\n",
              "├─────────────────────────────────┼───────────────────────────┼────────────┤\n",
              "│ dense_607 (<span style=\"color: #0087ff; text-decoration-color: #0087ff\">Dense</span>)               │ (<span style=\"color: #00d7ff; text-decoration-color: #00d7ff\">None</span>, <span style=\"color: #00af00; text-decoration-color: #00af00\">1</span>)                 │        <span style=\"color: #00af00; text-decoration-color: #00af00\">129</span> │\n",
              "└─────────────────────────────────┴───────────────────────────┴────────────┘\n",
              "</pre>\n"
            ]
          },
          "metadata": {}
        },
        {
          "output_type": "display_data",
          "data": {
            "text/plain": [
              "\u001b[1m Total params: \u001b[0m\u001b[38;5;34m170,501\u001b[0m (666.02 KB)\n"
            ],
            "text/html": [
              "<pre style=\"white-space:pre;overflow-x:auto;line-height:normal;font-family:Menlo,'DejaVu Sans Mono',consolas,'Courier New',monospace\"><span style=\"font-weight: bold\"> Total params: </span><span style=\"color: #00af00; text-decoration-color: #00af00\">170,501</span> (666.02 KB)\n",
              "</pre>\n"
            ]
          },
          "metadata": {}
        },
        {
          "output_type": "display_data",
          "data": {
            "text/plain": [
              "\u001b[1m Trainable params: \u001b[0m\u001b[38;5;34m56,833\u001b[0m (222.00 KB)\n"
            ],
            "text/html": [
              "<pre style=\"white-space:pre;overflow-x:auto;line-height:normal;font-family:Menlo,'DejaVu Sans Mono',consolas,'Courier New',monospace\"><span style=\"font-weight: bold\"> Trainable params: </span><span style=\"color: #00af00; text-decoration-color: #00af00\">56,833</span> (222.00 KB)\n",
              "</pre>\n"
            ]
          },
          "metadata": {}
        },
        {
          "output_type": "display_data",
          "data": {
            "text/plain": [
              "\u001b[1m Non-trainable params: \u001b[0m\u001b[38;5;34m0\u001b[0m (0.00 B)\n"
            ],
            "text/html": [
              "<pre style=\"white-space:pre;overflow-x:auto;line-height:normal;font-family:Menlo,'DejaVu Sans Mono',consolas,'Courier New',monospace\"><span style=\"font-weight: bold\"> Non-trainable params: </span><span style=\"color: #00af00; text-decoration-color: #00af00\">0</span> (0.00 B)\n",
              "</pre>\n"
            ]
          },
          "metadata": {}
        },
        {
          "output_type": "display_data",
          "data": {
            "text/plain": [
              "\u001b[1m Optimizer params: \u001b[0m\u001b[38;5;34m113,668\u001b[0m (444.02 KB)\n"
            ],
            "text/html": [
              "<pre style=\"white-space:pre;overflow-x:auto;line-height:normal;font-family:Menlo,'DejaVu Sans Mono',consolas,'Courier New',monospace\"><span style=\"font-weight: bold\"> Optimizer params: </span><span style=\"color: #00af00; text-decoration-color: #00af00\">113,668</span> (444.02 KB)\n",
              "</pre>\n"
            ]
          },
          "metadata": {}
        }
      ]
    },
    {
      "cell_type": "code",
      "source": [
        "# Test set\n",
        "y_pred_baseline = baseline_model.predict(X_test)\n",
        "mse_baseline = mean_squared_error(y_test, y_pred_baseline)\n",
        "print(f\"Baseline (Dummy Regressor) MSE: {mse_baseline}\")\n",
        "\n",
        "model1_mse = model1.evaluate(X_test, y_test, verbose=1)\n",
        "print(f\"Model 1 loss: {model1_mse:.4f}\")\n",
        "\n",
        "model2_mse = model2.evaluate(X_test, y_test, verbose=1)\n",
        "print(f\"Model 2 loss: {model2_mse:.4f}\")"
      ],
      "metadata": {
        "id": "N2yGMmegVjU1",
        "colab": {
          "base_uri": "https://localhost:8080/"
        },
        "outputId": "a49b44a8-fa69-45a1-9c62-ff4e310dd689"
      },
      "execution_count": 23,
      "outputs": [
        {
          "output_type": "stream",
          "name": "stdout",
          "text": [
            "Baseline (Dummy Regressor) MSE: 3.075215639745927\n",
            "\u001b[1m19/19\u001b[0m \u001b[32m━━━━━━━━━━━━━━━━━━━━\u001b[0m\u001b[37m\u001b[0m \u001b[1m1s\u001b[0m 66ms/step - loss: 3.3638\n",
            "Model 1 loss: 3.0846\n",
            "\u001b[1m19/19\u001b[0m \u001b[32m━━━━━━━━━━━━━━━━━━━━\u001b[0m\u001b[37m\u001b[0m \u001b[1m1s\u001b[0m 72ms/step - loss: 3.2467\n",
            "Model 2 loss: 3.0719\n"
          ]
        }
      ]
    },
    {
      "cell_type": "code",
      "source": [
        "# Graph the test set MSE results\n",
        "plt.figure(figsize=(10, 6))\n",
        "plt.bar(\n",
        "    [\"Baseline\", \"Model without dropout\", \"Model with dropout\"],\n",
        "    [mse_baseline, model1_mse, model2_mse],\n",
        ")\n",
        "plt.xlabel(\"Model\")\n",
        "plt.ylabel(\"MSE\")\n",
        "plt.title(\"Test Set MSE Comparison\")\n",
        "\n",
        "# y axis shorten from 2.8 to 3.1\n",
        "plt.ylim(2.8, 3.1)\n",
        "plt.show()"
      ],
      "metadata": {
        "id": "KLlQxjSzytVH",
        "colab": {
          "base_uri": "https://localhost:8080/",
          "height": 429
        },
        "outputId": "79a99464-2914-4c45-98b0-324ca62fc8ab"
      },
      "execution_count": 26,
      "outputs": [
        {
          "output_type": "display_data",
          "data": {
            "text/plain": [
              "<Figure size 1000x600 with 1 Axes>"
            ],
            "image/png": "[encoded data removed]"
          },
          "metadata": {}
        }
      ]
    }
  ]
}